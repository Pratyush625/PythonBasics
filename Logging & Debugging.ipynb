{
 "cells": [
  {
   "cell_type": "code",
   "execution_count": 1,
   "id": "6c212393",
   "metadata": {},
   "outputs": [],
   "source": [
    "import logging"
   ]
  },
  {
   "cell_type": "code",
   "execution_count": 2,
   "id": "542e98d2",
   "metadata": {},
   "outputs": [],
   "source": [
    "# Creating a logfile\n",
    "logging.basicConfig(filename=\"test.log\",level=logging.INFO)"
   ]
  },
  {
   "cell_type": "code",
   "execution_count": 3,
   "id": "a9ee3d6f",
   "metadata": {},
   "outputs": [
    {
     "data": {
      "text/plain": [
       "'C:\\\\Users\\\\praty\\\\Logging'"
      ]
     },
     "execution_count": 3,
     "metadata": {},
     "output_type": "execute_result"
    }
   ],
   "source": [
    "pwd()"
   ]
  },
  {
   "cell_type": "markdown",
   "id": "3a78989d",
   "metadata": {},
   "source": [
    "#### Different level of log\n",
    "DEBUG\n",
    "INFO\n",
    "WARNING\n",
    "ERROR\n",
    "CRITICAL"
   ]
  },
  {
   "cell_type": "code",
   "execution_count": 4,
   "id": "ea0cd8c6",
   "metadata": {},
   "outputs": [],
   "source": [
    "logging.info(\"this is my info log\")\n",
    "logging.warning(\"this is my warning log\")\n",
    "logging.error(\"this is my error log\")"
   ]
  },
  {
   "cell_type": "code",
   "execution_count": 5,
   "id": "ded92da6",
   "metadata": {},
   "outputs": [],
   "source": [
    "logging.shutdown()"
   ]
  },
  {
   "cell_type": "code",
   "execution_count": 6,
   "id": "4359ec1a",
   "metadata": {},
   "outputs": [],
   "source": [
    "# Creating one more log file, level = DEBUG, with date and time\n",
    "logging.basicConfig(filename=\"try1.log\", level= logging.DEBUG, format='%(asctime)s %(message)s')"
   ]
  },
  {
   "cell_type": "code",
   "execution_count": 7,
   "id": "d1768045",
   "metadata": {},
   "outputs": [],
   "source": [
    "logging.info(\"this is my info log\")\n",
    "logging.warning(\"this is my warning log\")\n",
    "logging.error(\"this is my error log\")"
   ]
  },
  {
   "cell_type": "code",
   "execution_count": 1,
   "id": "6c17f176",
   "metadata": {},
   "outputs": [],
   "source": [
    "# Creating one more log file\n",
    "import logging\n",
    "logging.basicConfig(filename=\"try2.log\", level= logging.DEBUG, format='%(asctime)s %(message)s')"
   ]
  },
  {
   "cell_type": "code",
   "execution_count": 9,
   "id": "0aa5ae06",
   "metadata": {},
   "outputs": [
    {
     "data": {
      "text/plain": [
       "'def divbyzero(a,b):\\n    logging.info(\"this is a start of my code and i am try to enteer %s and %s\", a,b)\\n    try:\\n        div=a/b\\n        logging.info(\"executive succ\")\\n    except Exception as e:\\n        logging.error(\"error has happedend\")\\n        logging.exception(\"Exception occured \"+str(e))'"
      ]
     },
     "execution_count": 9,
     "metadata": {},
     "output_type": "execute_result"
    }
   ],
   "source": [
    "'''def divbyzero(a,b):\n",
    "    logging.info(\"this is a start of my code and i am try to enteer %s and %s\", a,b)\n",
    "    try:\n",
    "        div=a/b\n",
    "        logging.info(\"executive succ\")\n",
    "    except Exception as e:\n",
    "        logging.error(\"error has happedend\")\n",
    "        logging.exception(\"Exception occured \"+str(e))'''"
   ]
  },
  {
   "cell_type": "code",
   "execution_count": 1,
   "id": "0b3da501",
   "metadata": {},
   "outputs": [],
   "source": [
    "# Creating one more log file\n",
    "import logging\n",
    "logging.basicConfig(filename=\"test2.log\", level= logging.INFO, format='%(asctime)s %(message)s')"
   ]
  },
  {
   "cell_type": "code",
   "execution_count": 2,
   "id": "53299f49",
   "metadata": {},
   "outputs": [],
   "source": [
    "logging.info(\"this is my info log\")\n",
    "logging.warning(\"this is my warning log\")\n",
    "logging.debug(\"this is my debug log\")\n",
    "logging.error(\"this is my error log\")"
   ]
  },
  {
   "cell_type": "markdown",
   "id": "73b30bd2",
   "metadata": {},
   "source": [
    "Error log is the high priority log, Error log > Warning log > Info log > Debug log\n",
    "\n",
    "if level = logging.INFO, even if debug logging is called that would not show the Debug log as Debug log is less prior than Info log"
   ]
  },
  {
   "cell_type": "code",
   "execution_count": 1,
   "id": "96bf8cdf",
   "metadata": {},
   "outputs": [],
   "source": [
    "# Debug log\n",
    "import logging\n",
    "logging.basicConfig(filename=\"test2.log\", level= logging.DEBUG, format='%(asctime)s %(message)s')"
   ]
  },
  {
   "cell_type": "code",
   "execution_count": 2,
   "id": "a1284ed2",
   "metadata": {},
   "outputs": [],
   "source": [
    "logging.info(\"this is my info log\")\n",
    "logging.warning(\"this is my warning log\")\n",
    "logging.debug(\"this is my debug log\")\n",
    "logging.error(\"this is my error log\")"
   ]
  },
  {
   "cell_type": "markdown",
   "id": "c005f853",
   "metadata": {},
   "source": [
    "All errors will be shown as DEBUG is the lowest priority log"
   ]
  },
  {
   "cell_type": "code",
   "execution_count": 1,
   "id": "c89cf2a5",
   "metadata": {},
   "outputs": [],
   "source": [
    "# New file log\n",
    "import logging\n",
    "logging.basicConfig(filename=\"test4.log\", level= logging.DEBUG, format='%(asctime)s %(message)s')"
   ]
  },
  {
   "cell_type": "code",
   "execution_count": 2,
   "id": "f859c246",
   "metadata": {},
   "outputs": [],
   "source": [
    "def divbyzero(a,b):\n",
    "    logging.info('this is a start of my code and i am trying to enter %s and %s',a,b)\n",
    "    try:\n",
    "        div=a/b\n",
    "        logging.info('Execution successful')\n",
    "    except Exception as e:\n",
    "        logging.error('Error has happened')\n",
    "        logging.exception('Exception occured ' + str(e))"
   ]
  },
  {
   "cell_type": "code",
   "execution_count": 3,
   "id": "55d8f1ab",
   "metadata": {},
   "outputs": [],
   "source": [
    "divbyzero(4,5)"
   ]
  },
  {
   "cell_type": "code",
   "execution_count": 3,
   "id": "6c247f25",
   "metadata": {},
   "outputs": [],
   "source": [
    "divbyzero(0,4)"
   ]
  },
  {
   "cell_type": "code",
   "execution_count": null,
   "id": "ccd0669e",
   "metadata": {},
   "outputs": [],
   "source": [
    "'''\n",
    "Error log in file\n",
    "2022-11-22 12:31:35,320 this is a start of my code and i am trying to enter 4 and 0\n",
    "2022-11-22 12:31:35,320 Error has happened\n",
    "2022-11-22 12:31:35,320 Exception occured division by zero\n",
    "Traceback (most recent call last):\n",
    "  File \"<ipython-input-2-50c9589e9bc7>\", line 4, in divbyzero\n",
    "    div=a/b\n",
    "ZeroDivisionError: division by zero\n",
    "'''"
   ]
  }
 ],
 "metadata": {
  "kernelspec": {
   "display_name": "Python 3",
   "language": "python",
   "name": "python3"
  },
  "language_info": {
   "codemirror_mode": {
    "name": "ipython",
    "version": 3
   },
   "file_extension": ".py",
   "mimetype": "text/x-python",
   "name": "python",
   "nbconvert_exporter": "python",
   "pygments_lexer": "ipython3",
   "version": "3.8.8"
  }
 },
 "nbformat": 4,
 "nbformat_minor": 5
}
