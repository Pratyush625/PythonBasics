{
 "cells": [
  {
   "cell_type": "code",
   "execution_count": 3,
   "id": "08db9a2d",
   "metadata": {},
   "outputs": [
    {
     "name": "stdout",
     "output_type": "stream",
     "text": [
      "0\n"
     ]
    },
    {
     "ename": "ZeroDivisionError",
     "evalue": "division by zero",
     "output_type": "error",
     "traceback": [
      "\u001b[1;31m---------------------------------------------------------------------------\u001b[0m",
      "\u001b[1;31mZeroDivisionError\u001b[0m                         Traceback (most recent call last)",
      "\u001b[1;32m<ipython-input-3-005fc1f752c4>\u001b[0m in \u001b[0;36m<module>\u001b[1;34m\u001b[0m\n\u001b[0;32m      1\u001b[0m \u001b[0ma\u001b[0m\u001b[1;33m=\u001b[0m\u001b[1;36m5\u001b[0m\u001b[1;33m\u001b[0m\u001b[1;33m\u001b[0m\u001b[0m\n\u001b[0;32m      2\u001b[0m \u001b[0mb\u001b[0m\u001b[1;33m=\u001b[0m\u001b[0mint\u001b[0m\u001b[1;33m(\u001b[0m\u001b[0minput\u001b[0m\u001b[1;33m(\u001b[0m\u001b[1;33m)\u001b[0m\u001b[1;33m)\u001b[0m\u001b[1;33m\u001b[0m\u001b[1;33m\u001b[0m\u001b[0m\n\u001b[1;32m----> 3\u001b[1;33m \u001b[0ma\u001b[0m\u001b[1;33m/\u001b[0m\u001b[0mb\u001b[0m\u001b[1;33m\u001b[0m\u001b[1;33m\u001b[0m\u001b[0m\n\u001b[0m",
      "\u001b[1;31mZeroDivisionError\u001b[0m: division by zero"
     ]
    }
   ],
   "source": [
    "# Example of error\n",
    "a=5\n",
    "b=int(input())\n",
    "a/b"
   ]
  },
  {
   "cell_type": "code",
   "execution_count": 4,
   "id": "1166d6df",
   "metadata": {},
   "outputs": [
    {
     "ename": "FileNotFoundError",
     "evalue": "[Errno 2] No such file or directory: 't1.txt'",
     "output_type": "error",
     "traceback": [
      "\u001b[1;31m---------------------------------------------------------------------------\u001b[0m",
      "\u001b[1;31mFileNotFoundError\u001b[0m                         Traceback (most recent call last)",
      "\u001b[1;32m<ipython-input-4-e5fed1eaaa25>\u001b[0m in \u001b[0;36m<module>\u001b[1;34m\u001b[0m\n\u001b[1;32m----> 1\u001b[1;33m \u001b[0mf\u001b[0m\u001b[1;33m=\u001b[0m\u001b[0mopen\u001b[0m\u001b[1;33m(\u001b[0m\u001b[1;34m't1.txt'\u001b[0m\u001b[1;33m,\u001b[0m\u001b[1;34m\"r\"\u001b[0m\u001b[1;33m)\u001b[0m\u001b[1;33m\u001b[0m\u001b[1;33m\u001b[0m\u001b[0m\n\u001b[0m\u001b[0;32m      2\u001b[0m \u001b[0mf\u001b[0m\u001b[1;33m.\u001b[0m\u001b[0mwrite\u001b[0m\u001b[1;33m(\u001b[0m\u001b[1;34m'aseff dfdfrf'\u001b[0m\u001b[1;33m)\u001b[0m\u001b[1;33m\u001b[0m\u001b[1;33m\u001b[0m\u001b[0m\n",
      "\u001b[1;31mFileNotFoundError\u001b[0m: [Errno 2] No such file or directory: 't1.txt'"
     ]
    }
   ],
   "source": [
    "# Error\n",
    "f=open('t1.txt',\"r\")\n",
    "f.write('aseff dfdfrf')"
   ]
  },
  {
   "cell_type": "code",
   "execution_count": 13,
   "id": "1ab497f0",
   "metadata": {},
   "outputs": [
    {
     "ename": "UnsupportedOperation",
     "evalue": "not writable",
     "output_type": "error",
     "traceback": [
      "\u001b[1;31m---------------------------------------------------------------------------\u001b[0m",
      "\u001b[1;31mUnsupportedOperation\u001b[0m                      Traceback (most recent call last)",
      "\u001b[1;32m<ipython-input-13-0551f351b162>\u001b[0m in \u001b[0;36m<module>\u001b[1;34m\u001b[0m\n\u001b[0;32m      1\u001b[0m \u001b[1;31m# Error\u001b[0m\u001b[1;33m\u001b[0m\u001b[1;33m\u001b[0m\u001b[1;33m\u001b[0m\u001b[0m\n\u001b[0;32m      2\u001b[0m \u001b[0mf\u001b[0m\u001b[1;33m=\u001b[0m\u001b[0mopen\u001b[0m\u001b[1;33m(\u001b[0m\u001b[1;34m't1.txt'\u001b[0m\u001b[1;33m,\u001b[0m\u001b[1;34m\"r\"\u001b[0m\u001b[1;33m)\u001b[0m\u001b[1;33m\u001b[0m\u001b[1;33m\u001b[0m\u001b[0m\n\u001b[1;32m----> 3\u001b[1;33m \u001b[0mf\u001b[0m\u001b[1;33m.\u001b[0m\u001b[0mwrite\u001b[0m\u001b[1;33m(\u001b[0m\u001b[1;34m'aseff dfdfrf'\u001b[0m\u001b[1;33m)\u001b[0m\u001b[1;33m\u001b[0m\u001b[1;33m\u001b[0m\u001b[0m\n\u001b[0m\u001b[0;32m      4\u001b[0m \u001b[0mprint\u001b[0m\u001b[1;33m(\u001b[0m\u001b[1;34m'this is my code'\u001b[0m\u001b[1;33m)\u001b[0m\u001b[1;33m\u001b[0m\u001b[1;33m\u001b[0m\u001b[0m\n",
      "\u001b[1;31mUnsupportedOperation\u001b[0m: not writable"
     ]
    }
   ],
   "source": [
    "# Error\n",
    "f=open('t1.txt',\"r\")\n",
    "f.write('aseff dfdfrf')\n",
    "print('this is my code')"
   ]
  },
  {
   "cell_type": "code",
   "execution_count": 12,
   "id": "b1440e76",
   "metadata": {},
   "outputs": [
    {
     "name": "stdout",
     "output_type": "stream",
     "text": [
      "there is a mistake\n",
      "this is my code\n"
     ]
    }
   ],
   "source": [
    "# Write inside try & Except block\n",
    "# Incase of Syntactical error try & Except block will not work, it work run time error\n",
    "try:\n",
    "    f=open('t1.txt','r')\n",
    "    f.write('dcdc fwdfef')\n",
    "except:\n",
    "    print('there is a mistake')\n",
    "print('this is my code')\n",
    "    "
   ]
  },
  {
   "cell_type": "code",
   "execution_count": 22,
   "id": "2ba9afcf",
   "metadata": {},
   "outputs": [
    {
     "ename": "SyntaxError",
     "evalue": "invalid syntax (<ipython-input-22-804452145e2e>, line 4)",
     "output_type": "error",
     "traceback": [
      "\u001b[1;36m  File \u001b[1;32m\"<ipython-input-22-804452145e2e>\"\u001b[1;36m, line \u001b[1;32m4\u001b[0m\n\u001b[1;33m    for i  range(len(l)):\u001b[0m\n\u001b[1;37m           ^\u001b[0m\n\u001b[1;31mSyntaxError\u001b[0m\u001b[1;31m:\u001b[0m invalid syntax\n"
     ]
    }
   ],
   "source": [
    "# Syntactical error so try and except failed\n",
    "l=[4,5,6,7,8]\n",
    "try:\n",
    "    for i  range(len(l)):\n",
    "        print(i)\n",
    "except:\n",
    "    print('this is my code')"
   ]
  },
  {
   "cell_type": "code",
   "execution_count": 25,
   "id": "73056ede",
   "metadata": {},
   "outputs": [
    {
     "name": "stdout",
     "output_type": "stream",
     "text": [
      "4\n",
      "5\n",
      "6\n",
      "7\n",
      "8\n"
     ]
    },
    {
     "ename": "IndexError",
     "evalue": "list index out of range",
     "output_type": "error",
     "traceback": [
      "\u001b[1;31m---------------------------------------------------------------------------\u001b[0m",
      "\u001b[1;31mIndexError\u001b[0m                                Traceback (most recent call last)",
      "\u001b[1;32m<ipython-input-25-f5d7a672d7bd>\u001b[0m in \u001b[0;36m<module>\u001b[1;34m\u001b[0m\n\u001b[0;32m      2\u001b[0m \u001b[0ml\u001b[0m\u001b[1;33m=\u001b[0m\u001b[1;33m[\u001b[0m\u001b[1;36m4\u001b[0m\u001b[1;33m,\u001b[0m\u001b[1;36m5\u001b[0m\u001b[1;33m,\u001b[0m\u001b[1;36m6\u001b[0m\u001b[1;33m,\u001b[0m\u001b[1;36m7\u001b[0m\u001b[1;33m,\u001b[0m\u001b[1;36m8\u001b[0m\u001b[1;33m]\u001b[0m\u001b[1;33m\u001b[0m\u001b[1;33m\u001b[0m\u001b[0m\n\u001b[0;32m      3\u001b[0m \u001b[1;32mfor\u001b[0m \u001b[0mi\u001b[0m \u001b[1;32min\u001b[0m  \u001b[0mrange\u001b[0m\u001b[1;33m(\u001b[0m\u001b[0mlen\u001b[0m\u001b[1;33m(\u001b[0m\u001b[0ml\u001b[0m\u001b[1;33m)\u001b[0m\u001b[1;33m+\u001b[0m\u001b[1;36m1\u001b[0m\u001b[1;33m)\u001b[0m\u001b[1;33m:\u001b[0m\u001b[1;33m\u001b[0m\u001b[1;33m\u001b[0m\u001b[0m\n\u001b[1;32m----> 4\u001b[1;33m     \u001b[0mprint\u001b[0m\u001b[1;33m(\u001b[0m\u001b[0ml\u001b[0m\u001b[1;33m[\u001b[0m\u001b[0mi\u001b[0m\u001b[1;33m]\u001b[0m\u001b[1;33m)\u001b[0m\u001b[1;33m\u001b[0m\u001b[1;33m\u001b[0m\u001b[0m\n\u001b[0m",
      "\u001b[1;31mIndexError\u001b[0m: list index out of range"
     ]
    }
   ],
   "source": [
    "# Runtime error - This can be countered by try & except block\n",
    "l=[4,5,6,7,8]\n",
    "for i in  range(len(l)+1):\n",
    "    print(l[i])"
   ]
  },
  {
   "cell_type": "code",
   "execution_count": 28,
   "id": "575faef9",
   "metadata": {},
   "outputs": [
    {
     "name": "stdout",
     "output_type": "stream",
     "text": [
      "4\n",
      "5\n",
      "6\n",
      "7\n",
      "8\n",
      "this my code\n",
      "error bypassed\n"
     ]
    }
   ],
   "source": [
    "# Eliminating error Using Try and except block\n",
    "l=[4,5,6,7,8]\n",
    "try:\n",
    "    for i in range(len(l)+1):\n",
    "        print(l[i])\n",
    "except:\n",
    "    print('this my code') # own custom message\n",
    "print('error bypassed')\n"
   ]
  },
  {
   "cell_type": "code",
   "execution_count": 30,
   "id": "6bc7bfd3",
   "metadata": {},
   "outputs": [
    {
     "name": "stdout",
     "output_type": "stream",
     "text": [
      "4\n",
      "5\n",
      "6\n",
      "7\n",
      "8\n",
      "list index out of range\n",
      "error bypassed\n"
     ]
    }
   ],
   "source": [
    "# Showing error in message\n",
    "l=[4,5,6,7,8]\n",
    "try:\n",
    "    for i in range(len(l)+1):\n",
    "        print(l[i])\n",
    "except Exception as e:  # e - alias\n",
    "    print(e)            # internal message\n",
    "print('error bypassed')"
   ]
  },
  {
   "cell_type": "code",
   "execution_count": 32,
   "id": "4d21d9b6",
   "metadata": {},
   "outputs": [
    {
     "name": "stdout",
     "output_type": "stream",
     "text": [
      "sdfsdsdf\n",
      "invalid literal for int() with base 10: 'sdfsdsdf'\n",
      "error handled\n"
     ]
    }
   ],
   "source": [
    "# Exception class\n",
    "try:\n",
    "    a=int(input())\n",
    "    b=int(input())\n",
    "except Exception as e:\n",
    "    print(e)\n",
    "print('error handled')"
   ]
  },
  {
   "cell_type": "code",
   "execution_count": 34,
   "id": "7cb52a26",
   "metadata": {},
   "outputs": [
    {
     "name": "stdout",
     "output_type": "stream",
     "text": [
      "[Errno 2] No such file or directory: 't2.txt'\n",
      "1\n",
      "2\n",
      "3\n",
      "4\n",
      "5\n",
      "error handler for loop\n"
     ]
    }
   ],
   "source": [
    "# Examples - Error Handled\n",
    "try:\n",
    "    f=open('t2.txt','r')\n",
    "    f.write('this is my code with exception handling')\n",
    "    print('this my code after write ops')\n",
    "except Exception as e:\n",
    "    print(e)\n",
    "try:\n",
    "    l=[1,2,3,4,5]\n",
    "    for i in l:\n",
    "        print(i)\n",
    "except Exception as e:\n",
    "    print(e)\n",
    "print('error handler for loop')"
   ]
  },
  {
   "cell_type": "code",
   "execution_count": 2,
   "id": "256f6fef",
   "metadata": {},
   "outputs": [
    {
     "name": "stdout",
     "output_type": "stream",
     "text": [
      "sfdsf\n",
      "invalid literal for int() with base 10: 'sfdsf'\n"
     ]
    }
   ],
   "source": [
    "# Example\n",
    "try:\n",
    "    d={'key1':'prat','key2':[1,2,3,4,5],'key3':(4,5,6,7,8)}\n",
    "    d['key4']=int(input())\n",
    "except Exception as e:\n",
    "    print(e)"
   ]
  },
  {
   "cell_type": "code",
   "execution_count": 3,
   "id": "60d84a57",
   "metadata": {},
   "outputs": [
    {
     "name": "stdout",
     "output_type": "stream",
     "text": [
      "dfdsfdfdf\n"
     ]
    },
    {
     "ename": "ValueError",
     "evalue": "invalid literal for int() with base 10: 'dfdsfdfdf'",
     "output_type": "error",
     "traceback": [
      "\u001b[1;31m---------------------------------------------------------------------------\u001b[0m",
      "\u001b[1;31mValueError\u001b[0m                                Traceback (most recent call last)",
      "\u001b[1;32m<ipython-input-3-39763f5d48cd>\u001b[0m in \u001b[0;36m<module>\u001b[1;34m\u001b[0m\n\u001b[0;32m      1\u001b[0m \u001b[0md\u001b[0m\u001b[1;33m=\u001b[0m\u001b[1;33m{\u001b[0m\u001b[1;34m'key1'\u001b[0m\u001b[1;33m:\u001b[0m\u001b[1;34m'prat'\u001b[0m\u001b[1;33m,\u001b[0m\u001b[1;34m'key2'\u001b[0m\u001b[1;33m:\u001b[0m\u001b[1;33m[\u001b[0m\u001b[1;36m1\u001b[0m\u001b[1;33m,\u001b[0m\u001b[1;36m2\u001b[0m\u001b[1;33m,\u001b[0m\u001b[1;36m3\u001b[0m\u001b[1;33m,\u001b[0m\u001b[1;36m4\u001b[0m\u001b[1;33m,\u001b[0m\u001b[1;36m5\u001b[0m\u001b[1;33m]\u001b[0m\u001b[1;33m,\u001b[0m\u001b[1;34m'key3'\u001b[0m\u001b[1;33m:\u001b[0m\u001b[1;33m(\u001b[0m\u001b[1;36m4\u001b[0m\u001b[1;33m,\u001b[0m\u001b[1;36m5\u001b[0m\u001b[1;33m,\u001b[0m\u001b[1;36m6\u001b[0m\u001b[1;33m,\u001b[0m\u001b[1;36m7\u001b[0m\u001b[1;33m,\u001b[0m\u001b[1;36m8\u001b[0m\u001b[1;33m)\u001b[0m\u001b[1;33m}\u001b[0m\u001b[1;33m\u001b[0m\u001b[1;33m\u001b[0m\u001b[0m\n\u001b[1;32m----> 2\u001b[1;33m \u001b[0md\u001b[0m\u001b[1;33m[\u001b[0m\u001b[1;34m'key4'\u001b[0m\u001b[1;33m]\u001b[0m\u001b[1;33m=\u001b[0m\u001b[0mint\u001b[0m\u001b[1;33m(\u001b[0m\u001b[0minput\u001b[0m\u001b[1;33m(\u001b[0m\u001b[1;33m)\u001b[0m\u001b[1;33m)\u001b[0m\u001b[1;33m\u001b[0m\u001b[1;33m\u001b[0m\u001b[0m\n\u001b[0m",
      "\u001b[1;31mValueError\u001b[0m: invalid literal for int() with base 10: 'dfdsfdfdf'"
     ]
    }
   ],
   "source": [
    "d={'key1':'prat','key2':[1,2,3,4,5],'key3':(4,5,6,7,8)}\n",
    "d['key4']=int(input())"
   ]
  },
  {
   "cell_type": "code",
   "execution_count": 4,
   "id": "1e28c6c0",
   "metadata": {},
   "outputs": [
    {
     "name": "stdout",
     "output_type": "stream",
     "text": [
      "asdaef\n",
      "invalid literal for int() with base 10: 'asdaef'\n"
     ]
    }
   ],
   "source": [
    "# Value error - subclass\n",
    "try:\n",
    "    d={'key1':'prat','key2':[1,2,3,4,5],'key3':(4,5,6,7,8)}\n",
    "    d['key4']=int(input())\n",
    "except ValueError as e:\n",
    "    print(e)"
   ]
  },
  {
   "cell_type": "code",
   "execution_count": 8,
   "id": "d5bca974",
   "metadata": {},
   "outputs": [
    {
     "name": "stdout",
     "output_type": "stream",
     "text": [
      "567\n"
     ]
    },
    {
     "ename": "FileNotFoundError",
     "evalue": "[Errno 2] No such file or directory: 't2.txt'",
     "output_type": "error",
     "traceback": [
      "\u001b[1;31m---------------------------------------------------------------------------\u001b[0m",
      "\u001b[1;31mFileNotFoundError\u001b[0m                         Traceback (most recent call last)",
      "\u001b[1;32m<ipython-input-8-c141b9e28840>\u001b[0m in \u001b[0;36m<module>\u001b[1;34m\u001b[0m\n\u001b[0;32m      3\u001b[0m     \u001b[0md\u001b[0m\u001b[1;33m=\u001b[0m\u001b[1;33m{\u001b[0m\u001b[1;34m'key1'\u001b[0m\u001b[1;33m:\u001b[0m\u001b[1;34m'prat'\u001b[0m\u001b[1;33m,\u001b[0m\u001b[1;34m'key2'\u001b[0m\u001b[1;33m:\u001b[0m\u001b[1;33m[\u001b[0m\u001b[1;36m1\u001b[0m\u001b[1;33m,\u001b[0m\u001b[1;36m2\u001b[0m\u001b[1;33m,\u001b[0m\u001b[1;36m3\u001b[0m\u001b[1;33m,\u001b[0m\u001b[1;36m4\u001b[0m\u001b[1;33m,\u001b[0m\u001b[1;36m5\u001b[0m\u001b[1;33m]\u001b[0m\u001b[1;33m,\u001b[0m\u001b[1;34m'key3'\u001b[0m\u001b[1;33m:\u001b[0m\u001b[1;33m(\u001b[0m\u001b[1;36m4\u001b[0m\u001b[1;33m,\u001b[0m\u001b[1;36m5\u001b[0m\u001b[1;33m,\u001b[0m\u001b[1;36m6\u001b[0m\u001b[1;33m,\u001b[0m\u001b[1;36m7\u001b[0m\u001b[1;33m,\u001b[0m\u001b[1;36m8\u001b[0m\u001b[1;33m)\u001b[0m\u001b[1;33m}\u001b[0m\u001b[1;33m\u001b[0m\u001b[1;33m\u001b[0m\u001b[0m\n\u001b[0;32m      4\u001b[0m     \u001b[0md\u001b[0m\u001b[1;33m[\u001b[0m\u001b[1;34m'key4'\u001b[0m\u001b[1;33m]\u001b[0m\u001b[1;33m=\u001b[0m\u001b[0mint\u001b[0m\u001b[1;33m(\u001b[0m\u001b[0minput\u001b[0m\u001b[1;33m(\u001b[0m\u001b[1;33m)\u001b[0m\u001b[1;33m)\u001b[0m\u001b[1;33m\u001b[0m\u001b[1;33m\u001b[0m\u001b[0m\n\u001b[1;32m----> 5\u001b[1;33m     \u001b[0mf\u001b[0m\u001b[1;33m=\u001b[0m\u001b[0mopen\u001b[0m\u001b[1;33m(\u001b[0m\u001b[1;34m't2.txt'\u001b[0m\u001b[1;33m,\u001b[0m\u001b[1;34m'r'\u001b[0m\u001b[1;33m)\u001b[0m\u001b[1;33m\u001b[0m\u001b[1;33m\u001b[0m\u001b[0m\n\u001b[0m\u001b[0;32m      6\u001b[0m \u001b[1;32mexcept\u001b[0m \u001b[0mValueError\u001b[0m \u001b[1;32mas\u001b[0m \u001b[0me\u001b[0m\u001b[1;33m:\u001b[0m\u001b[1;33m\u001b[0m\u001b[1;33m\u001b[0m\u001b[0m\n\u001b[0;32m      7\u001b[0m     \u001b[0mprint\u001b[0m\u001b[1;33m(\u001b[0m\u001b[0me\u001b[0m\u001b[1;33m)\u001b[0m\u001b[1;33m\u001b[0m\u001b[1;33m\u001b[0m\u001b[0m\n",
      "\u001b[1;31mFileNotFoundError\u001b[0m: [Errno 2] No such file or directory: 't2.txt'"
     ]
    }
   ],
   "source": [
    "# Here Error is not being handled\n",
    "try:\n",
    "    d={'key1':'prat','key2':[1,2,3,4,5],'key3':(4,5,6,7,8)}\n",
    "    d['key4']=int(input())\n",
    "    f=open('t2.txt','r')\n",
    "except ValueError as e:\n",
    "    print(e)"
   ]
  },
  {
   "cell_type": "markdown",
   "id": "99b6ad61",
   "metadata": {},
   "source": [
    "#### Here in Exception we have use the subclass ValueError which only handle  that specific error"
   ]
  },
  {
   "cell_type": "code",
   "execution_count": 9,
   "id": "89e8532a",
   "metadata": {},
   "outputs": [
    {
     "name": "stdout",
     "output_type": "stream",
     "text": [
      "456\n",
      "[Errno 2] No such file or directory: 't2.txt'\n"
     ]
    }
   ],
   "source": [
    "# Here Error handled\n",
    "try:\n",
    "    d={'key1':'prat','key2':[1,2,3,4,5],'key3':(4,5,6,7,8)}\n",
    "    d['key4']=int(input())\n",
    "    f=open('t2.txt','r')\n",
    "except Exception as e:\n",
    "    print(e)"
   ]
  },
  {
   "cell_type": "markdown",
   "id": "129de8a9",
   "metadata": {},
   "source": [
    "#### Here in Exception we use superclass Exception that handles all errors"
   ]
  },
  {
   "cell_type": "code",
   "execution_count": 10,
   "id": "cdc7e651",
   "metadata": {},
   "outputs": [
    {
     "name": "stdout",
     "output_type": "stream",
     "text": [
      "456\n",
      "[Errno 2] No such file or directory: 't2.txt'\n"
     ]
    }
   ],
   "source": [
    "# Multiple exception to handle error\n",
    "try:\n",
    "    d={'key1':'prat','key2':[1,2,3,4,5],'key3':(4,5,6,7,8)}\n",
    "    d['key4']=int(input())\n",
    "    f=open('t2.txt','r')\n",
    "except Exception as e:\n",
    "    print(e)\n",
    "except FileNotFoundError as e:\n",
    "    print(e)"
   ]
  },
  {
   "cell_type": "code",
   "execution_count": 20,
   "id": "52d88d5e",
   "metadata": {},
   "outputs": [
    {
     "name": "stdout",
     "output_type": "stream",
     "text": [
      "this will execute once my try block will be executed successfully\n"
     ]
    }
   ],
   "source": [
    "# try, except, else\n",
    "try:\n",
    "    f=open('t2.txt','w')\n",
    "    f.write('this is mycode in try')\n",
    "except Exception as e:\n",
    "    print('this will handle error')\n",
    "else:\n",
    "    print('this will execute once my try block will be executed successfully')\n",
    "    f.close()"
   ]
  },
  {
   "cell_type": "code",
   "execution_count": 23,
   "id": "f610d0b0",
   "metadata": {},
   "outputs": [
    {
     "name": "stdout",
     "output_type": "stream",
     "text": [
      "this will handle error  not writable\n"
     ]
    }
   ],
   "source": [
    "try:\n",
    "    f=open('t2.txt','r')\n",
    "    f.write('this is mycode in try')\n",
    "except Exception as e:\n",
    "    print('this will handle error ',e)\n",
    "else:\n",
    "    print('this will execute once my try block will be executed successfully')\n",
    "    f.close()"
   ]
  },
  {
   "cell_type": "markdown",
   "id": "7fd158a5",
   "metadata": {},
   "source": [
    "#### else block only executes and try block executes"
   ]
  },
  {
   "cell_type": "markdown",
   "id": "dd09a5a4",
   "metadata": {},
   "source": [
    "####  Error was there so it was handled by except block"
   ]
  },
  {
   "cell_type": "code",
   "execution_count": 25,
   "id": "10cc8290",
   "metadata": {},
   "outputs": [
    {
     "name": "stdout",
     "output_type": "stream",
     "text": [
      "this will handle error  [Errno 2] No such file or directory: 't4.txt'\n",
      "execute all the time\n"
     ]
    }
   ],
   "source": [
    "# finally block - It execute all the time irrespective of error\n",
    "try:\n",
    "    f=open('t4.txt','r')\n",
    "except Exception as e:\n",
    "    print('this will handle error ',e)\n",
    "else:\n",
    "    print('executes on successful execution of try block')\n",
    "finally:\n",
    "    print('execute all the time')"
   ]
  },
  {
   "cell_type": "markdown",
   "id": "386e31a8",
   "metadata": {},
   "source": [
    "#### Here else block not executed as try block not executed"
   ]
  },
  {
   "cell_type": "code",
   "execution_count": 27,
   "id": "be7a1efa",
   "metadata": {},
   "outputs": [
    {
     "name": "stdout",
     "output_type": "stream",
     "text": [
      "executes on successful execution of try block\n",
      "execute all the time\n"
     ]
    }
   ],
   "source": [
    "# Example\n",
    "try:\n",
    "    f=open('t4.txt','w')\n",
    "except Exception as e:\n",
    "    print('this will handle error ',e)\n",
    "else:\n",
    "    print('executes on successful execution of try block')\n",
    "finally:\n",
    "    print('execute all the time')\n",
    "    f.close()"
   ]
  },
  {
   "cell_type": "markdown",
   "id": "602a6de9",
   "metadata": {},
   "source": [
    "#### Here else block  executed as try block executed"
   ]
  },
  {
   "cell_type": "code",
   "execution_count": 28,
   "id": "588e75a8",
   "metadata": {},
   "outputs": [
    {
     "name": "stdout",
     "output_type": "stream",
     "text": [
      "executes on successful execution of try block\n",
      "execute all the time\n",
      "handle this\n",
      "it will come to this block for sure\n"
     ]
    }
   ],
   "source": [
    "# we can set try block anywhere, inside any block\n",
    "try:\n",
    "    f=open('t4.txt','w')\n",
    "except Exception as e:\n",
    "    print('this will handle error ',e)\n",
    "else:\n",
    "    print('executes on successful execution of try block')\n",
    "finally:\n",
    "    print('execute all the time')\n",
    "    try:\n",
    "        f=open('t5.txt','r')\n",
    "    except:\n",
    "        print('handle this')\n",
    "    finally:\n",
    "        print('it will come to this block for sure')"
   ]
  },
  {
   "cell_type": "code",
   "execution_count": 35,
   "id": "9a9d276f",
   "metadata": {},
   "outputs": [],
   "source": [
    "# Write a function ask integer from user\n",
    "def askint():\n",
    "    try:\n",
    "        a=int(input())\n",
    "        return a\n",
    "    except Exception as e:\n",
    "        print('this is my input error: ',e)"
   ]
  },
  {
   "cell_type": "code",
   "execution_count": 36,
   "id": "0280c052",
   "metadata": {},
   "outputs": [
    {
     "name": "stdout",
     "output_type": "stream",
     "text": [
      "678\n"
     ]
    },
    {
     "data": {
      "text/plain": [
       "678"
      ]
     },
     "execution_count": 36,
     "metadata": {},
     "output_type": "execute_result"
    }
   ],
   "source": [
    "askint()"
   ]
  },
  {
   "cell_type": "code",
   "execution_count": 37,
   "id": "3f3bb2de",
   "metadata": {},
   "outputs": [
    {
     "name": "stdout",
     "output_type": "stream",
     "text": [
      "sdsdssd\n",
      "this is my input error:  invalid literal for int() with base 10: 'sdsdssd'\n"
     ]
    }
   ],
   "source": [
    "askint()"
   ]
  },
  {
   "cell_type": "code",
   "execution_count": 14,
   "id": "7c20046a",
   "metadata": {},
   "outputs": [],
   "source": [
    "# Create a function which keep on asking for an integer unless untill user enter the interger\n",
    "def integer():\n",
    "    while True:\n",
    "        \"\"\"Function ask for interger untill unless it provided\n",
    "        \"\"\"\n",
    "        try:\n",
    "            x=int(input())\n",
    "            break\n",
    "        except ValueError as e:\n",
    "            print('Enter the number again,this is not an integer: ',e) \n",
    "            continue"
   ]
  },
  {
   "cell_type": "code",
   "execution_count": 15,
   "id": "39db42a8",
   "metadata": {},
   "outputs": [
    {
     "name": "stdout",
     "output_type": "stream",
     "text": [
      "assdfsd\n",
      "Enter the number again,this is not an integer:  invalid literal for int() with base 10: 'assdfsd'\n",
      "sdfsdsd\n",
      "Enter the number again,this is not an integer:  invalid literal for int() with base 10: 'sdfsdsd'\n",
      "dsfsdff\n",
      "Enter the number again,this is not an integer:  invalid literal for int() with base 10: 'dsfsdff'\n",
      "56\n"
     ]
    }
   ],
   "source": [
    "integer()"
   ]
  },
  {
   "cell_type": "code",
   "execution_count": null,
   "id": "54742989",
   "metadata": {},
   "outputs": [],
   "source": [
    "# Another way\n",
    "def fun1():\n",
    "    flag=True\n",
    "    while flag:\n",
    "        try:\n",
    "            num=int(input('enter the integer: '))\n",
    "            if type(num)==int:\n",
    "                return \"yes this an interger, the integer is \",num\n",
    "                flag=False\n",
    "        except Exception as e:\n",
    "            print('Please enter the integer: ',e)\n",
    "            "
   ]
  },
  {
   "cell_type": "code",
   "execution_count": 65,
   "id": "ef4adb1e",
   "metadata": {},
   "outputs": [
    {
     "name": "stdout",
     "output_type": "stream",
     "text": [
      "enter the integer: assf\n",
      "Please enter the integer:  invalid literal for int() with base 10: 'assf'\n",
      "enter the integer: sfsdfsdf\n",
      "Please enter the integer:  invalid literal for int() with base 10: 'sfsdfsdf'\n",
      "enter the integer: sfsdfsd\n",
      "Please enter the integer:  invalid literal for int() with base 10: 'sfsdfsd'\n",
      "enter the integer: 456\n"
     ]
    },
    {
     "data": {
      "text/plain": [
       "('yes this an interger, the integer is ', 456)"
      ]
     },
     "execution_count": 65,
     "metadata": {},
     "output_type": "execute_result"
    }
   ],
   "source": [
    "fun1()"
   ]
  },
  {
   "cell_type": "code",
   "execution_count": 10,
   "id": "2c65fe72",
   "metadata": {},
   "outputs": [],
   "source": [
    "# another way - only for +ve number\n",
    "def getint(p):\n",
    "    while True:\n",
    "        try:\n",
    "            value=int(input(p))\n",
    "        except ValueError:\n",
    "            print(\"Wrong entry, please enter an integer\")\n",
    "            continue\n",
    "        if value <0:\n",
    "            print('Your response must not be -ve')\n",
    "            continue\n",
    "        else:\n",
    "            break\n",
    "    return 'yes this is a positive number',value"
   ]
  },
  {
   "cell_type": "code",
   "execution_count": 11,
   "id": "3fb6c599",
   "metadata": {},
   "outputs": [
    {
     "name": "stdout",
     "output_type": "stream",
     "text": [
      "efwefwefewfsdfsdf\n",
      "Wrong entry, please enter an integer\n",
      "efwefwefewfefef\n",
      "Wrong entry, please enter an integer\n",
      "efwefwefewf-90\n",
      "Your response must not be -ve\n",
      "efwefwefewf89\n"
     ]
    },
    {
     "data": {
      "text/plain": [
       "('yes this is a positive number', 89)"
      ]
     },
     "execution_count": 11,
     "metadata": {},
     "output_type": "execute_result"
    }
   ],
   "source": [
    "getint('efwefwefewf')"
   ]
  },
  {
   "cell_type": "code",
   "execution_count": 23,
   "id": "242a0e98",
   "metadata": {},
   "outputs": [],
   "source": [
    "# Raise our own exception\n",
    "def test(a):\n",
    "    if a<0:\n",
    "        raise Exception('you have entered a -ve value')\n",
    "    return a"
   ]
  },
  {
   "cell_type": "code",
   "execution_count": 24,
   "id": "07853e06",
   "metadata": {},
   "outputs": [
    {
     "ename": "Exception",
     "evalue": "you have entered a -ve value",
     "output_type": "error",
     "traceback": [
      "\u001b[1;31m---------------------------------------------------------------------------\u001b[0m",
      "\u001b[1;31mException\u001b[0m                                 Traceback (most recent call last)",
      "\u001b[1;32m<ipython-input-24-d2bb95962d49>\u001b[0m in \u001b[0;36m<module>\u001b[1;34m\u001b[0m\n\u001b[1;32m----> 1\u001b[1;33m \u001b[0mtest\u001b[0m\u001b[1;33m(\u001b[0m\u001b[1;33m-\u001b[0m\u001b[1;36m4\u001b[0m\u001b[1;33m)\u001b[0m\u001b[1;33m\u001b[0m\u001b[1;33m\u001b[0m\u001b[0m\n\u001b[0m",
      "\u001b[1;32m<ipython-input-23-fdd9be08b00d>\u001b[0m in \u001b[0;36mtest\u001b[1;34m(a)\u001b[0m\n\u001b[0;32m      2\u001b[0m \u001b[1;32mdef\u001b[0m \u001b[0mtest\u001b[0m\u001b[1;33m(\u001b[0m\u001b[0ma\u001b[0m\u001b[1;33m)\u001b[0m\u001b[1;33m:\u001b[0m\u001b[1;33m\u001b[0m\u001b[1;33m\u001b[0m\u001b[0m\n\u001b[0;32m      3\u001b[0m     \u001b[1;32mif\u001b[0m \u001b[0ma\u001b[0m\u001b[1;33m<\u001b[0m\u001b[1;36m0\u001b[0m\u001b[1;33m:\u001b[0m\u001b[1;33m\u001b[0m\u001b[1;33m\u001b[0m\u001b[0m\n\u001b[1;32m----> 4\u001b[1;33m         \u001b[1;32mraise\u001b[0m \u001b[0mException\u001b[0m\u001b[1;33m(\u001b[0m\u001b[1;34m'you have entered a -ve value'\u001b[0m\u001b[1;33m)\u001b[0m\u001b[1;33m\u001b[0m\u001b[1;33m\u001b[0m\u001b[0m\n\u001b[0m\u001b[0;32m      5\u001b[0m     \u001b[1;32mreturn\u001b[0m \u001b[0ma\u001b[0m\u001b[1;33m\u001b[0m\u001b[1;33m\u001b[0m\u001b[0m\n",
      "\u001b[1;31mException\u001b[0m: you have entered a -ve value"
     ]
    }
   ],
   "source": [
    "test(-4)"
   ]
  },
  {
   "cell_type": "code",
   "execution_count": 26,
   "id": "ffe23584",
   "metadata": {},
   "outputs": [],
   "source": [
    "# Overriding error\n",
    "def test(a):\n",
    "    if a<0:\n",
    "        raise ZeroDivisionError('you have entered a -ve value')\n",
    "    return a"
   ]
  },
  {
   "cell_type": "code",
   "execution_count": 27,
   "id": "b14ba280",
   "metadata": {},
   "outputs": [
    {
     "ename": "ZeroDivisionError",
     "evalue": "you have entered a -ve value",
     "output_type": "error",
     "traceback": [
      "\u001b[1;31m---------------------------------------------------------------------------\u001b[0m",
      "\u001b[1;31mZeroDivisionError\u001b[0m                         Traceback (most recent call last)",
      "\u001b[1;32m<ipython-input-27-d2bb95962d49>\u001b[0m in \u001b[0;36m<module>\u001b[1;34m\u001b[0m\n\u001b[1;32m----> 1\u001b[1;33m \u001b[0mtest\u001b[0m\u001b[1;33m(\u001b[0m\u001b[1;33m-\u001b[0m\u001b[1;36m4\u001b[0m\u001b[1;33m)\u001b[0m\u001b[1;33m\u001b[0m\u001b[1;33m\u001b[0m\u001b[0m\n\u001b[0m",
      "\u001b[1;32m<ipython-input-26-24a99047a319>\u001b[0m in \u001b[0;36mtest\u001b[1;34m(a)\u001b[0m\n\u001b[0;32m      2\u001b[0m \u001b[1;32mdef\u001b[0m \u001b[0mtest\u001b[0m\u001b[1;33m(\u001b[0m\u001b[0ma\u001b[0m\u001b[1;33m)\u001b[0m\u001b[1;33m:\u001b[0m\u001b[1;33m\u001b[0m\u001b[1;33m\u001b[0m\u001b[0m\n\u001b[0;32m      3\u001b[0m     \u001b[1;32mif\u001b[0m \u001b[0ma\u001b[0m\u001b[1;33m<\u001b[0m\u001b[1;36m0\u001b[0m\u001b[1;33m:\u001b[0m\u001b[1;33m\u001b[0m\u001b[1;33m\u001b[0m\u001b[0m\n\u001b[1;32m----> 4\u001b[1;33m         \u001b[1;32mraise\u001b[0m \u001b[0mZeroDivisionError\u001b[0m\u001b[1;33m(\u001b[0m\u001b[1;34m'you have entered a -ve value'\u001b[0m\u001b[1;33m)\u001b[0m\u001b[1;33m\u001b[0m\u001b[1;33m\u001b[0m\u001b[0m\n\u001b[0m\u001b[0;32m      5\u001b[0m     \u001b[1;32mreturn\u001b[0m \u001b[0ma\u001b[0m\u001b[1;33m\u001b[0m\u001b[1;33m\u001b[0m\u001b[0m\n",
      "\u001b[1;31mZeroDivisionError\u001b[0m: you have entered a -ve value"
     ]
    }
   ],
   "source": [
    "test(-4)"
   ]
  },
  {
   "cell_type": "markdown",
   "id": "8d09bd88",
   "metadata": {},
   "source": [
    "#### Exception overriden, although it not the correct exception"
   ]
  },
  {
   "cell_type": "code",
   "execution_count": 36,
   "id": "f5fdf9c3",
   "metadata": {},
   "outputs": [],
   "source": [
    "# Own exception\n",
    "def test(a):\n",
    "    if a=='prat':\n",
    "        raise ZeroDivisionError('you have entered a -ve value ',a)\n",
    "        return a"
   ]
  },
  {
   "cell_type": "code",
   "execution_count": 37,
   "id": "e2a49cdb",
   "metadata": {},
   "outputs": [
    {
     "ename": "ZeroDivisionError",
     "evalue": "('you have entered a -ve value ', 'prat')",
     "output_type": "error",
     "traceback": [
      "\u001b[1;31m---------------------------------------------------------------------------\u001b[0m",
      "\u001b[1;31mZeroDivisionError\u001b[0m                         Traceback (most recent call last)",
      "\u001b[1;32m<ipython-input-37-b307e347fb41>\u001b[0m in \u001b[0;36m<module>\u001b[1;34m\u001b[0m\n\u001b[1;32m----> 1\u001b[1;33m \u001b[0mtest\u001b[0m\u001b[1;33m(\u001b[0m\u001b[1;34m'prat'\u001b[0m\u001b[1;33m)\u001b[0m\u001b[1;33m\u001b[0m\u001b[1;33m\u001b[0m\u001b[0m\n\u001b[0m",
      "\u001b[1;32m<ipython-input-36-437081c2c515>\u001b[0m in \u001b[0;36mtest\u001b[1;34m(a)\u001b[0m\n\u001b[0;32m      2\u001b[0m \u001b[1;32mdef\u001b[0m \u001b[0mtest\u001b[0m\u001b[1;33m(\u001b[0m\u001b[0ma\u001b[0m\u001b[1;33m)\u001b[0m\u001b[1;33m:\u001b[0m\u001b[1;33m\u001b[0m\u001b[1;33m\u001b[0m\u001b[0m\n\u001b[0;32m      3\u001b[0m     \u001b[1;32mif\u001b[0m \u001b[0ma\u001b[0m\u001b[1;33m==\u001b[0m\u001b[1;34m'prat'\u001b[0m\u001b[1;33m:\u001b[0m\u001b[1;33m\u001b[0m\u001b[1;33m\u001b[0m\u001b[0m\n\u001b[1;32m----> 4\u001b[1;33m         \u001b[1;32mraise\u001b[0m \u001b[0mZeroDivisionError\u001b[0m\u001b[1;33m(\u001b[0m\u001b[1;34m'you have entered a -ve value '\u001b[0m\u001b[1;33m,\u001b[0m\u001b[0ma\u001b[0m\u001b[1;33m)\u001b[0m\u001b[1;33m\u001b[0m\u001b[1;33m\u001b[0m\u001b[0m\n\u001b[0m\u001b[0;32m      5\u001b[0m         \u001b[1;32mreturn\u001b[0m \u001b[0ma\u001b[0m\u001b[1;33m\u001b[0m\u001b[1;33m\u001b[0m\u001b[0m\n",
      "\u001b[1;31mZeroDivisionError\u001b[0m: ('you have entered a -ve value ', 'prat')"
     ]
    }
   ],
   "source": [
    "test('prat')"
   ]
  },
  {
   "cell_type": "markdown",
   "id": "4cc49a82",
   "metadata": {},
   "source": [
    "#### exception overriden as per the custom exception"
   ]
  },
  {
   "cell_type": "code",
   "execution_count": 38,
   "id": "7db0edc1",
   "metadata": {},
   "outputs": [
    {
     "name": "stdout",
     "output_type": "stream",
     "text": [
      "sfasf\n"
     ]
    }
   ],
   "source": [
    "try:\n",
    "    a=input()\n",
    "    test(a)\n",
    "except Exception as e:\n",
    "    print('calling my raised exception',e)"
   ]
  },
  {
   "cell_type": "code",
   "execution_count": 39,
   "id": "e3b60fbc",
   "metadata": {},
   "outputs": [
    {
     "name": "stdout",
     "output_type": "stream",
     "text": [
      "prat\n",
      "calling my raised exception ('you have entered a -ve value ', 'prat')\n"
     ]
    }
   ],
   "source": [
    "try:\n",
    "    a=input()\n",
    "    test(a)\n",
    "except Exception as e:\n",
    "    print('calling my raised exception',e)"
   ]
  }
 ],
 "metadata": {
  "kernelspec": {
   "display_name": "Python 3",
   "language": "python",
   "name": "python3"
  },
  "language_info": {
   "codemirror_mode": {
    "name": "ipython",
    "version": 3
   },
   "file_extension": ".py",
   "mimetype": "text/x-python",
   "name": "python",
   "nbconvert_exporter": "python",
   "pygments_lexer": "ipython3",
   "version": "3.8.8"
  }
 },
 "nbformat": 4,
 "nbformat_minor": 5
}
