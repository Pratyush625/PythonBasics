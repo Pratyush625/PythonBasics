{
 "cells": [
  {
   "cell_type": "markdown",
   "metadata": {},
   "source": [
    "## IF Else Statement with Examples"
   ]
  },
  {
   "cell_type": "code",
   "execution_count": 1,
   "metadata": {},
   "outputs": [],
   "source": [
    "a = 10 "
   ]
  },
  {
   "cell_type": "code",
   "execution_count": 6,
   "metadata": {},
   "outputs": [],
   "source": [
    "if a < 15:\n",
    "    pass # dead code no error in o/p\n",
    "    "
   ]
  },
  {
   "cell_type": "code",
   "execution_count": 2,
   "metadata": {},
   "outputs": [
    {
     "data": {
      "text/plain": [
       "True"
      ]
     },
     "execution_count": 2,
     "metadata": {},
     "output_type": "execute_result"
    }
   ],
   "source": [
    "a < 15"
   ]
  },
  {
   "cell_type": "code",
   "execution_count": 3,
   "metadata": {},
   "outputs": [
    {
     "name": "stdout",
     "output_type": "stream",
     "text": [
      "my name is prat\n"
     ]
    }
   ],
   "source": [
    "if a < 15 :\n",
    "    print(\"my name is prat\")"
   ]
  },
  {
   "cell_type": "code",
   "execution_count": 4,
   "metadata": {},
   "outputs": [],
   "source": [
    "if 24 < 15 :\n",
    "    print(\"my name is prat\")"
   ]
  },
  {
   "cell_type": "code",
   "execution_count": 5,
   "metadata": {},
   "outputs": [
    {
     "data": {
      "text/plain": [
       "False"
      ]
     },
     "execution_count": 5,
     "metadata": {},
     "output_type": "execute_result"
    }
   ],
   "source": [
    "24 < 15"
   ]
  },
  {
   "cell_type": "code",
   "execution_count": 10,
   "metadata": {},
   "outputs": [
    {
     "name": "stdout",
     "output_type": "stream",
     "text": [
      " 5 is lesser than 10 \n"
     ]
    }
   ],
   "source": [
    "if 5<10 :\n",
    "    print(\" 5 is lesser than 10 \")\n",
    "else :\n",
    "    print(\"if statemnt is wrong \")\n",
    "\n",
    "    "
   ]
  },
  {
   "cell_type": "code",
   "execution_count": 11,
   "metadata": {},
   "outputs": [
    {
     "name": "stdout",
     "output_type": "stream",
     "text": [
      "if statemnt is wrong \n"
     ]
    }
   ],
   "source": [
    "if 10<5 :\n",
    "    print(\" 5 is lesser than 10 \")\n",
    "else :\n",
    "    print(\"if statemnt is wrong \")"
   ]
  },
  {
   "cell_type": "code",
   "execution_count": 16,
   "metadata": {},
   "outputs": [
    {
     "name": "stdout",
     "output_type": "stream",
     "text": [
      "34\n",
      "i will be able to buy phone\n"
     ]
    }
   ],
   "source": [
    "income = int(input())\n",
    "if income < 50:\n",
    "    print(\"i will be able to buy phone\")\n",
    "elif income < 70 :\n",
    "    print(\"i will be able to buy car \")\n",
    "elif  income < 90 :\n",
    "    print(\"i will be able to rent a house \")\n",
    "else :\n",
    "    print(\"i wont be able to buy anything\")"
   ]
  },
  {
   "cell_type": "code",
   "execution_count": 21,
   "metadata": {},
   "outputs": [
    {
     "name": "stdout",
     "output_type": "stream",
     "text": [
      "7500\n",
      "wont be able to give any discount \n"
     ]
    }
   ],
   "source": [
    "Total_price = int(input())\n",
    "if Total_price  > 20000 :\n",
    "    discount = Total_price * .20\n",
    "    print(\"Discount will be \" , discount)\n",
    "elif Total_price <= 7000 :\n",
    "    discount = Total_price *.05\n",
    "    print(\"dicount will be \" , discount)\n",
    "else :\n",
    "    print( \"wont be able to give any discount \")"
   ]
  },
  {
   "cell_type": "code",
   "execution_count": 27,
   "metadata": {},
   "outputs": [
    {
     "name": "stdout",
     "output_type": "stream",
     "text": [
      "PRAT5\n",
      "you will be able to get a discount of 5 % \n",
      "you will be able to get this course with this amount  6726.0\n"
     ]
    }
   ],
   "source": [
    "coup = input()\n",
    "if coup == \"PRAT5\":\n",
    "    print(\"you will be able to get a discount of 5 % \")\n",
    "    paid_amount = 7080 - 7080*.05\n",
    "    print(\"you will be able to get this course with this amount \" , paid_amount )\n",
    "else :\n",
    "    print(\"kindly use a valid coupoun code \")"
   ]
  },
  {
   "cell_type": "code",
   "execution_count": 28,
   "metadata": {},
   "outputs": [
    {
     "name": "stdout",
     "output_type": "stream",
     "text": [
      "5\n",
      "it will be difficult \n"
     ]
    }
   ],
   "source": [
    "study_hour = int(input())\n",
    "if study_hour < 1:\n",
    "    print(\"it may take  8- 9 month of time to make a transitino \")\n",
    "elif study_hour < 4 and  study_hour > 1:\n",
    "    print(\"it may take 6 month for transition\")\n",
    "elif study_hour > 10 :\n",
    "    print(\" it will take 3 month of time for transition \")\n",
    "else :\n",
    "    print(\"it will be difficult \")"
   ]
  },
  {
   "cell_type": "code",
   "execution_count": 29,
   "metadata": {},
   "outputs": [
    {
     "name": "stdout",
     "output_type": "stream",
     "text": [
      "1.5\n",
      "succeed\n"
     ]
    }
   ],
   "source": [
    "study = float(input())\n",
    "if study <1 and  study >0.5:\n",
    "    print(\"you may succeed\")\n",
    "elif   study <6 and  study >1:\n",
    "        print(\"succeed\")\n",
    "else :\n",
    "    print(\"fail\")\n"
   ]
  },
  {
   "cell_type": "code",
   "execution_count": 121,
   "metadata": {},
   "outputs": [
    {
     "name": "stdout",
     "output_type": "stream",
     "text": [
      "enter a string to start package\n",
      "enter a course name Blockchain\n",
      "enter a service name package\n",
      "this is not available as of now , kindly raise your demand and we will fulfil in 60 days \n"
     ]
    }
   ],
   "source": [
    "s = input(\"enter a string to start \")\n",
    "course = input(\"enter a course name \")\n",
    "service = input(\"enter a service name \")\n",
    "if s == \"package\":\n",
    "    if course == \"DSA\":\n",
    "        print(\"yes its available under this package and in multiple mode for job preparation and core concept \")\n",
    "    elif course == \"Blockchain\":\n",
    "        print(\"this is not available as of now , kindly raise your demand and we will fulfil in 60 days \")\n",
    "    elif course == \"FSDS\":\n",
    "        print(\"yes its available , you can start learning \")\n",
    "    else :\n",
    "        print(\"this course is not availble kindly raise your demand \")\n",
    "elif s  == \"packageservice\":\n",
    "    if service == \"courserequest\":\n",
    "        print(\"*NOTE: Dear Learner, you can raise demand related to any new course, and we will fulfil your need in the next 60 days.\")\n",
    "    elif service == \"module\" :\n",
    "        print(\"*NOTE: Dear Learner, you can raise demand related to any new course module, and we will fulfil your need in the next 30 days.\")\n",
    "    elif service == \"doubt\":\n",
    "        print(\"*NOTE: Dear Learner, you can raise demand related to any doubt clearing, and we will fulfil your need in the next 24 hours.\")\n",
    "    elif service == \"workwithus\":\n",
    "        print(\"*NOTE: Dear Learner, you can raise the demand to work with our team; our HR will evaluate and get back to you in 24 hours.\")\n",
    "    else :\n",
    "        print(\"kindly provide us your feedback and we will fulfil\")\n",
    "else :\n",
    "    print(\"kindly connect with our team \")"
   ]
  },
  {
   "cell_type": "code",
   "execution_count": 122,
   "metadata": {},
   "outputs": [
    {
     "data": {
      "text/plain": [
       "'\\nO/P - s = input(\"enter a string to start \") - Package\\n       course = input(\"enter a course name \") - Blockchain\\n       service = input(\"enter a service name \") -package\\n'"
      ]
     },
     "execution_count": 122,
     "metadata": {},
     "output_type": "execute_result"
    }
   ],
   "source": [
    "'''\n",
    "O/P - s = input(\"enter a string to start \") - Package\n",
    "       course = input(\"enter a course name \") - Blockchain\n",
    "       service = input(\"enter a service name \") -package\n",
    "'''"
   ]
  },
  {
   "cell_type": "markdown",
   "metadata": {},
   "source": [
    "## For Loop"
   ]
  },
  {
   "cell_type": "code",
   "execution_count": 44,
   "metadata": {},
   "outputs": [
    {
     "name": "stdout",
     "output_type": "stream",
     "text": [
      "1\n",
      "2\n",
      "3\n",
      "4\n",
      "5\n",
      "6\n",
      "7\n"
     ]
    }
   ],
   "source": [
    "l = [1,2,3,4,5,6,7]\n",
    "for i in l :\n",
    "    print(i)\n",
    "    "
   ]
  },
  {
   "cell_type": "code",
   "execution_count": 45,
   "metadata": {},
   "outputs": [
    {
     "name": "stdout",
     "output_type": "stream",
     "text": [
      "p\n",
      "r\n",
      "a\n",
      "t\n"
     ]
    }
   ],
   "source": [
    "\n",
    "for i in \"prat\" :\n",
    "    print(i)\n",
    "    \n",
    "    "
   ]
  },
  {
   "cell_type": "code",
   "execution_count": 46,
   "metadata": {},
   "outputs": [],
   "source": [
    "t = (1,2,3,4,5,6,6)"
   ]
  },
  {
   "cell_type": "code",
   "execution_count": 47,
   "metadata": {},
   "outputs": [
    {
     "name": "stdout",
     "output_type": "stream",
     "text": [
      "1\n",
      "2\n",
      "3\n",
      "4\n",
      "5\n",
      "6\n",
      "6\n"
     ]
    }
   ],
   "source": [
    "for i in t :\n",
    "    print(i)"
   ]
  },
  {
   "cell_type": "code",
   "execution_count": 51,
   "metadata": {},
   "outputs": [],
   "source": [
    "l = [1,4,5.6,4+7j ,\"prat\" ]"
   ]
  },
  {
   "cell_type": "code",
   "execution_count": 52,
   "metadata": {},
   "outputs": [
    {
     "name": "stdout",
     "output_type": "stream",
     "text": [
      "<class 'int'> type of  1\n",
      "<class 'int'> type of  4\n",
      "<class 'float'> type of  5.6\n",
      "<class 'complex'> type of  (4+7j)\n",
      "<class 'str'> type of  prat\n"
     ]
    }
   ],
   "source": [
    "for i in l :\n",
    "    print(type(i) , \"type of \" , i )    "
   ]
  },
  {
   "cell_type": "code",
   "execution_count": 48,
   "metadata": {},
   "outputs": [
    {
     "name": "stdout",
     "output_type": "stream",
     "text": [
      "3\n",
      "6\n",
      "7.6\n"
     ]
    }
   ],
   "source": [
    "l = [1,4,5.6]\n",
    "l1 = []\n",
    "for i in l :\n",
    "    print(i+2)\n",
    "    l1.append(i+2)"
   ]
  },
  {
   "cell_type": "code",
   "execution_count": 49,
   "metadata": {},
   "outputs": [
    {
     "data": {
      "text/plain": [
       "[3, 6, 7.6]"
      ]
     },
     "execution_count": 49,
     "metadata": {},
     "output_type": "execute_result"
    }
   ],
   "source": [
    "l1"
   ]
  },
  {
   "cell_type": "code",
   "execution_count": 59,
   "metadata": {},
   "outputs": [],
   "source": [
    "# Extracting integers from list\n",
    "l = [2,45,78,12,\"prat\" , 6+7j,[56,67,78,\"dsfdsf\"]]"
   ]
  },
  {
   "cell_type": "code",
   "execution_count": 60,
   "metadata": {},
   "outputs": [
    {
     "name": "stdout",
     "output_type": "stream",
     "text": [
      "2\n",
      "45\n",
      "78\n",
      "12\n",
      "56\n",
      "67\n",
      "78\n"
     ]
    }
   ],
   "source": [
    "for i in l:\n",
    "    if type(i)==int:\n",
    "        print(i)\n",
    "    elif type(i)==list:\n",
    "        for j in i:\n",
    "            if type(j)==int:\n",
    "                print(j)\n",
    "    \n",
    "        "
   ]
  },
  {
   "cell_type": "code",
   "execution_count": 107,
   "metadata": {},
   "outputs": [],
   "source": [
    "l1 = [2,45,78,12,12,12,12,\"prat\",\"kumar\", 6+7j,[56,67,78,\"dsfdsf\"]]\n",
    "#q1 . try to print index of all the element \n",
    "#q2 . Try to extract all the list of char if element is string \n",
    "#q3 . Try to return a list after doing a square of all the int element \n",
    "    "
   ]
  },
  {
   "cell_type": "code",
   "execution_count": 108,
   "metadata": {},
   "outputs": [
    {
     "name": "stdout",
     "output_type": "stream",
     "text": [
      "index 0 for an element  2\n",
      "index 1 for an element  45\n",
      "index 2 for an element  78\n",
      "index 3 for an element  12\n",
      "index 4 for an element  12\n",
      "index 5 for an element  12\n",
      "index 6 for an element  12\n",
      "index 7 for an element  prat\n",
      "index 8 for an element  kumar\n",
      "index 9 for an element  (6+7j)\n",
      "index 10 for an element  [56, 67, 78, 'dsfdsf']\n"
     ]
    }
   ],
   "source": [
    "#q1 . try to print index of all the element \n",
    "for i in range(len(l1)):\n",
    "    print(\"index\", i , \"for an element \",l1[i] )"
   ]
  },
  {
   "cell_type": "code",
   "execution_count": 109,
   "metadata": {},
   "outputs": [
    {
     "name": "stdout",
     "output_type": "stream",
     "text": [
      "0 2\n",
      "1 45\n",
      "2 78\n",
      "3 12\n",
      "4 12\n",
      "5 12\n",
      "6 12\n",
      "7 sudh\n",
      "8 kumar\n",
      "9 (6+7j)\n",
      "10 [56, 67, 78, 'dsfdsf']\n"
     ]
    }
   ],
   "source": [
    "# Other Way\n",
    "for i,j  in enumerate(l):\n",
    "    print(i ,j)"
   ]
  },
  {
   "cell_type": "code",
   "execution_count": 110,
   "metadata": {},
   "outputs": [
    {
     "name": "stdout",
     "output_type": "stream",
     "text": [
      "['s', 'u', 'd', 'h']\n",
      "['k', 'u', 'm', 'a', 'r']\n"
     ]
    }
   ],
   "source": [
    "#q2 .Try to extract all the list of char if element is string \n",
    "\n",
    "for i in l :\n",
    "    if type(i) == str :\n",
    "        l1 = []\n",
    "        for j in i :\n",
    "            l1.append(j)\n",
    "        print(l1)\n",
    "              "
   ]
  },
  {
   "cell_type": "code",
   "execution_count": 114,
   "metadata": {},
   "outputs": [
    {
     "name": "stdout",
     "output_type": "stream",
     "text": [
      "4\n",
      "2025\n",
      "6084\n",
      "144\n",
      "144\n",
      "144\n",
      "144\n"
     ]
    }
   ],
   "source": [
    "#q3 .Try to return a list after doing a square of all the int element\n",
    "l1 = [2,45,78,12,12,12,12,\"prat\",\"kumar\", 6+7j,[56,67,78,\"dsfdsf\"]]\n",
    "l2=[]\n",
    "for i in l1:\n",
    "    if type(i)==int:\n",
    "        print(i*i)\n",
    "        l2.append(i)\n",
    "    "
   ]
  },
  {
   "cell_type": "code",
   "execution_count": 115,
   "metadata": {},
   "outputs": [
    {
     "data": {
      "text/plain": [
       "[2, 45, 78, 12, 12, 12, 12]"
      ]
     },
     "execution_count": 115,
     "metadata": {},
     "output_type": "execute_result"
    }
   ],
   "source": [
    "l2"
   ]
  },
  {
   "cell_type": "code",
   "execution_count": 117,
   "metadata": {},
   "outputs": [],
   "source": [
    "l = [2,45,78,12,\"sudh\", 6 + 7j, [56,67,78,\"hhdh\"]]\n",
    "sqr = []\n",
    "for i in range(len(l)):\n",
    "    if type(l[i]) == list :\n",
    "        print(\"flag\")\n",
    "        for j in range(len(l[i])):\n",
    "            if type(l[i][j]) == int:\n",
    "                m = l[i][j]**2\n",
    "                sqr.append(m)\n"
   ]
  },
  {
   "cell_type": "code",
   "execution_count": 104,
   "metadata": {},
   "outputs": [
    {
     "data": {
      "text/plain": [
       "[3136, 4489, 6084]"
      ]
     },
     "execution_count": 104,
     "metadata": {},
     "output_type": "execute_result"
    }
   ],
   "source": [
    "sqr"
   ]
  }
 ],
 "metadata": {
  "kernelspec": {
   "display_name": "Python 3",
   "language": "python",
   "name": "python3"
  },
  "language_info": {
   "codemirror_mode": {
    "name": "ipython",
    "version": 3
   },
   "file_extension": ".py",
   "mimetype": "text/x-python",
   "name": "python",
   "nbconvert_exporter": "python",
   "pygments_lexer": "ipython3",
   "version": "3.8.8"
  }
 },
 "nbformat": 4,
 "nbformat_minor": 4
}
