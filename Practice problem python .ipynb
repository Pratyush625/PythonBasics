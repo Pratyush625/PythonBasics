{
 "cells": [
  {
   "cell_type": "code",
   "execution_count": 1,
   "metadata": {},
   "outputs": [
    {
     "data": {
      "text/plain": [
       "26"
      ]
     },
     "execution_count": 1,
     "metadata": {},
     "output_type": "execute_result"
    }
   ],
   "source": [
    "# Count string\n",
    "s = \"This is basic python class\"\n",
    "len(s)"
   ]
  },
  {
   "cell_type": "code",
   "execution_count": 2,
   "metadata": {},
   "outputs": [
    {
     "name": "stdout",
     "output_type": "stream",
     "text": [
      "26\n"
     ]
    }
   ],
   "source": [
    "count = 0 \n",
    "for i in s :\n",
    "    #count = count +1\n",
    "    count+=1\n",
    "print(count)\n",
    "    "
   ]
  },
  {
   "cell_type": "code",
   "execution_count": 3,
   "metadata": {},
   "outputs": [
    {
     "data": {
      "text/plain": [
       "'ssalc nohtyp cisab si sihT'"
      ]
     },
     "execution_count": 3,
     "metadata": {},
     "output_type": "execute_result"
    }
   ],
   "source": [
    "# Reverse string using slicing\n",
    "s[::-1]"
   ]
  },
  {
   "cell_type": "code",
   "execution_count": 4,
   "metadata": {},
   "outputs": [
    {
     "name": "stdout",
     "output_type": "stream",
     "text": [
      "s\n",
      "s\n",
      "a\n",
      "l\n",
      "c\n",
      " \n",
      "n\n",
      "o\n",
      "h\n",
      "t\n",
      "y\n",
      "p\n",
      " \n",
      "c\n",
      "i\n",
      "s\n",
      "a\n",
      "b\n",
      " \n",
      "s\n",
      "i\n",
      " \n",
      "s\n",
      "i\n",
      "h\n",
      "T\n"
     ]
    }
   ],
   "source": [
    "# Reverse using for loop\n",
    "for i in range(len(s)-1 , -1,-1):\n",
    "    print(s[i])"
   ]
  },
  {
   "cell_type": "code",
   "execution_count": 5,
   "metadata": {},
   "outputs": [
    {
     "name": "stdout",
     "output_type": "stream",
     "text": [
      "s s a l c   n o h t y p   c i s a b   s i   s i h T "
     ]
    }
   ],
   "source": [
    "# Reverse using while loop\n",
    "i=len(s)-1\n",
    "while(i>=0):\n",
    "    print(s[i],end=\" \")\n",
    "    i=i-1\n"
   ]
  },
  {
   "cell_type": "code",
   "execution_count": 6,
   "metadata": {},
   "outputs": [],
   "source": [
    "# for loop with In(Which chracter is vowel)\n",
    "s = \"apple\"\n",
    "v = \"AaEeIiOoUu\""
   ]
  },
  {
   "cell_type": "code",
   "execution_count": 7,
   "metadata": {},
   "outputs": [
    {
     "name": "stdout",
     "output_type": "stream",
     "text": [
      "vowel a\n",
      "not vowel p\n",
      "not vowel p\n",
      "not vowel l\n",
      "vowel e\n"
     ]
    }
   ],
   "source": [
    "s=\"apple\"\n",
    "v=\"AaEeIiOoUu\"\n",
    "for i in s:\n",
    "    if i in v:\n",
    "        print(\"vowel\",i)\n",
    "    else:\n",
    "        print(\"not vowel\",i)\n"
   ]
  },
  {
   "cell_type": "code",
   "execution_count": 8,
   "metadata": {},
   "outputs": [
    {
     "data": {
      "text/plain": [
       "'eye'"
      ]
     },
     "execution_count": 8,
     "metadata": {},
     "output_type": "execute_result"
    }
   ],
   "source": [
    "# Pallindrome examples\n",
    "\"tnent\"\n",
    "\"malayalam\"\n",
    "\"eye\""
   ]
  },
  {
   "cell_type": "code",
   "execution_count": 9,
   "metadata": {},
   "outputs": [
    {
     "name": "stdout",
     "output_type": "stream",
     "text": [
      "eye\n",
      "Pallindrome eye\n"
     ]
    }
   ],
   "source": [
    "#Solutions- using if else\n",
    "s = input()\n",
    "v = s[::-1]\n",
    "if s == v :\n",
    "    print(\"Pallindrome\",s)\n",
    "else:\n",
    "    print(\"Not a pallindrome\",s)\n"
   ]
  },
  {
   "cell_type": "code",
   "execution_count": 10,
   "metadata": {},
   "outputs": [],
   "source": [
    "### Analysis below code (Word is eyeeee)\n",
    "####for i in range(len(word)): --> gives the all the index positions [0,1,2,3,4]\n",
    "#### if word[i]!=word[len(word)-i-1]: \n",
    "   #### word[i] --> 0th postion value which is \"e\" not equal to word[len(word)-i-1] -->5-0-1=4 which \"e\" from negative index\n",
    "#### print(\"Not palindrome\") --> it will print not pallindrome\n",
    "#### break --> exhaust the loop\n",
    "#### else:\n",
    "   #### print(\"Palindrome\") ---> vice versa shows pallindrome"
   ]
  },
  {
   "cell_type": "code",
   "execution_count": 11,
   "metadata": {},
   "outputs": [
    {
     "name": "stdout",
     "output_type": "stream",
     "text": [
      "eye\n",
      "Palindrome\n"
     ]
    }
   ],
   "source": [
    "#Using for else loop\n",
    "word=input()\n",
    "\n",
    "for i in range(len(word)):\n",
    "    if word[i]!=word[len(word)-i-1]:\n",
    "        print(\"Not palindrome\")\n",
    "        break\n",
    "else:\n",
    "    print(\"Palindrome\")\n"
   ]
  },
  {
   "cell_type": "code",
   "execution_count": null,
   "metadata": {},
   "outputs": [],
   "source": [
    "\n"
   ]
  },
  {
   "cell_type": "code",
   "execution_count": 12,
   "metadata": {},
   "outputs": [
    {
     "name": "stdout",
     "output_type": "stream",
     "text": [
      "eye\n",
      "palindrome\n"
     ]
    }
   ],
   "source": [
    "#Using while loop\n",
    "s=input()\n",
    "f=\"\"\n",
    "i=len(s)-1\n",
    "\n",
    "while(i>=0):\n",
    "    f=f+s[i]\n",
    "    i=i-1\n",
    "if(s==f):\n",
    "    print(\"palindrome\")\n",
    "else:\n",
    "    print(\"not a palindrome\")\n"
   ]
  },
  {
   "cell_type": "code",
   "execution_count": 13,
   "metadata": {},
   "outputs": [
    {
     "name": "stdout",
     "output_type": "stream",
     "text": [
      "Yes\n"
     ]
    }
   ],
   "source": [
    "x = \"malayalam\"\n",
    " \n",
    "w = \"\"\n",
    "for i in x:\n",
    "    w = i + w\n",
    " \n",
    "if (x == w):\n",
    "    print(\"Yes\")\n",
    "else:\n",
    "    print(\"No\")\n"
   ]
  },
  {
   "cell_type": "code",
   "execution_count": 14,
   "metadata": {},
   "outputs": [
    {
     "name": "stdout",
     "output_type": "stream",
     "text": [
      "palindrome\n"
     ]
    }
   ],
   "source": [
    "l=len(s)\n",
    "k=0\n",
    "for i in range(l):\n",
    "    if s[i]==s[l-i-1]:\n",
    "               \n",
    "               continue\n",
    "    else:\n",
    "               print(\"Non palindrome\")\n",
    "               k=1\n",
    "               break\n",
    "if k==0:\n",
    "    print(\"palindrome\")\n"
   ]
  },
  {
   "cell_type": "code",
   "execution_count": 15,
   "metadata": {},
   "outputs": [
    {
     "data": {
      "text/plain": [
       "'eye'"
      ]
     },
     "execution_count": 15,
     "metadata": {},
     "output_type": "execute_result"
    }
   ],
   "source": [
    "s"
   ]
  },
  {
   "cell_type": "code",
   "execution_count": 16,
   "metadata": {},
   "outputs": [],
   "source": [
    "d = {\"india\" :\"IN\" ,\n",
    "     \"canada\" : \"CA\",\n",
    "     \"china\" : \"CH\",\n",
    "     \"united state \" : \"USA\"\n",
    "    }"
   ]
  },
  {
   "cell_type": "code",
   "execution_count": 17,
   "metadata": {},
   "outputs": [
    {
     "data": {
      "text/plain": [
       "True"
      ]
     },
     "execution_count": 17,
     "metadata": {},
     "output_type": "execute_result"
    }
   ],
   "source": [
    "\"india\" in d"
   ]
  },
  {
   "cell_type": "code",
   "execution_count": 18,
   "metadata": {},
   "outputs": [],
   "source": [
    "# Filter out whether the length of key is > 6 or < 6\n",
    "l_greater = []\n",
    "l_smaller = []\n",
    "for i in d:\n",
    "    if len(i)<= 6 :\n",
    "        l_smaller.append(i)\n",
    "    else :\n",
    "        l_greater.append(i)"
   ]
  },
  {
   "cell_type": "code",
   "execution_count": 19,
   "metadata": {
    "scrolled": true
   },
   "outputs": [
    {
     "data": {
      "text/plain": [
       "['united state ']"
      ]
     },
     "execution_count": 19,
     "metadata": {},
     "output_type": "execute_result"
    }
   ],
   "source": [
    "l_greater"
   ]
  },
  {
   "cell_type": "code",
   "execution_count": 20,
   "metadata": {},
   "outputs": [
    {
     "data": {
      "text/plain": [
       "['india', 'canada', 'china']"
      ]
     },
     "execution_count": 20,
     "metadata": {},
     "output_type": "execute_result"
    }
   ],
   "source": [
    "l_smaller"
   ]
  },
  {
   "cell_type": "code",
   "execution_count": 21,
   "metadata": {},
   "outputs": [],
   "source": [
    "# Find maximum value from both of the dict ? o/p -[14,45]\n",
    "d_1 = {\"ineruon\" :{\n",
    "                        \"a\" : 14,\n",
    "                        \"b\":10,\n",
    "                        \"c\" : 4\n",
    "                    },\n",
    "        \n",
    "       'course' : {\n",
    "                       'd':45,\n",
    "                       \"e\" : 34,\n",
    "                       'f' :1\n",
    "                   }\n",
    "    }"
   ]
  },
  {
   "cell_type": "code",
   "execution_count": 22,
   "metadata": {},
   "outputs": [
    {
     "name": "stdout",
     "output_type": "stream",
     "text": [
      "14\n",
      "45\n"
     ]
    }
   ],
   "source": [
    "max_value=[]\n",
    "for i in d_1.values():\n",
    "    for j in i.values():\n",
    "        max_value.append(j)\n",
    "    print(max(max_value))\n",
    "        \n",
    "    "
   ]
  },
  {
   "cell_type": "code",
   "execution_count": 23,
   "metadata": {},
   "outputs": [
    {
     "name": "stdout",
     "output_type": "stream",
     "text": [
      "14\n",
      "66\n"
     ]
    }
   ],
   "source": [
    "# Another approach\n",
    "d1={'ineuron':{\n",
    "    'a':14,\n",
    "    'b':10,\n",
    "    'c':4},\n",
    "   'course':{'d':45,\n",
    "    'e':34,\n",
    "    'i':66}\n",
    "}\n",
    "\n",
    "lst1=[]\n",
    "lst2=[]\n",
    "for i in d1['ineuron'].values():\n",
    "    lst1.append(i)\n",
    "    lst1.sort()\n",
    "print(lst1[-1])\n",
    "\n",
    "for i in d1['course'].values():\n",
    "    lst2.append(i)\n",
    "    lst2.sort()\n",
    "print(lst2[-1])\n"
   ]
  },
  {
   "cell_type": "code",
   "execution_count": 24,
   "metadata": {},
   "outputs": [
    {
     "name": "stdout",
     "output_type": "stream",
     "text": [
      "24\n",
      "45\n"
     ]
    }
   ],
   "source": [
    "# Another approach\n",
    "d1 = {\"ineuron\":{\"a\":14,\"b\":24,\"c\":4},\n",
    "      \"course\":{\"d\":45,\"e\":34,\"f\":1}\n",
    "      }\n",
    "for i in d1.values():\n",
    "    \n",
    "    mx = 0   # Flag created\n",
    "    for j in i.values():\n",
    "        if mx<j:\n",
    "            mx = j\n",
    "    print(mx)\n"
   ]
  },
  {
   "cell_type": "code",
   "execution_count": 25,
   "metadata": {},
   "outputs": [
    {
     "name": "stdout",
     "output_type": "stream",
     "text": [
      "14\n",
      "45\n"
     ]
    }
   ],
   "source": [
    "# Another approach\n",
    "for i in d_1.values():\n",
    "    print(max(i.values()))\n"
   ]
  },
  {
   "cell_type": "code",
   "execution_count": 26,
   "metadata": {},
   "outputs": [
    {
     "name": "stdout",
     "output_type": "stream",
     "text": [
      "ineruon\n",
      "14\n",
      "course\n",
      "45\n"
     ]
    }
   ],
   "source": [
    "# Another approach\n",
    "for i in d_1.keys():\n",
    "    print(i)\n",
    "    print(max(d_1[i].values()))\n"
   ]
  },
  {
   "cell_type": "code",
   "execution_count": 27,
   "metadata": {},
   "outputs": [],
   "source": [
    "#Find the max integer from the below \n",
    "d1={\"ineuron\":{\"a\":14,\"b\":10,\"c\":4},\"course\":{\"d\":45,\"e\":34,\"f\":1}, \n",
    "     \"g\" : 34 , \"h\" :[45,6,7,8,9,3] , 'i' :(45,34,2) , 'k' :\"sudh\"}"
   ]
  },
  {
   "cell_type": "code",
   "execution_count": 28,
   "metadata": {},
   "outputs": [],
   "source": [
    "d_1={\"ineuron\":{\"a\":14,\"b\":10,\"c\":4},\"course\":{\"d\":45,\"e\":34,\"f\":1}, \n",
    "     \"g\" : 354 , \"h\" :[45,6,7,8,9,3] , 'i' :(45,34,2) , 'k' :\"sudh\"}"
   ]
  },
  {
   "cell_type": "code",
   "execution_count": 29,
   "metadata": {},
   "outputs": [
    {
     "name": "stdout",
     "output_type": "stream",
     "text": [
      "354\n"
     ]
    }
   ],
   "source": [
    "l1=[]\n",
    "for i in d_1.values():\n",
    "    if type(i)==dict:\n",
    "        l1.append(max(i.values()))\n",
    "    elif type(i)==list:\n",
    "        l1.append(max(i))\n",
    "    elif type(i)==tuple:\n",
    "        l1.append(max(i))\n",
    "    elif type(i)==complex:\n",
    "        l1.append(max(i))\n",
    "    elif type(i)==str:\n",
    "        pass\n",
    "    else:\n",
    "        l1.append(i)\n",
    "print(max(l1))\n",
    "    "
   ]
  },
  {
   "cell_type": "code",
   "execution_count": 30,
   "metadata": {},
   "outputs": [
    {
     "name": "stdout",
     "output_type": "stream",
     "text": [
      "45\n"
     ]
    }
   ],
   "source": [
    "#Another approach\n",
    "d1={'ineuron':{'a':14, 'b':10, 'c':4},'course':{'d':45, 'e':34, 'f':1},'g':34, 'h':[45,6,7,8,9,3], 'i':(45,34,2), 'k':'sudh'}\n",
    "l = []\n",
    "for i in d1.values():\n",
    "    if type(i) == int:\n",
    "        l.append(i)\n",
    "    elif type(i) == list or type(i) == tuple:\n",
    "        l.extend(i)\n",
    "    elif type(i) == dict:\n",
    "        for j in i.values():\n",
    "            l.append(j)\n",
    "print(max(l))\n"
   ]
  },
  {
   "cell_type": "code",
   "execution_count": 31,
   "metadata": {},
   "outputs": [
    {
     "name": "stdout",
     "output_type": "stream",
     "text": [
      "True\n",
      "[45]\n"
     ]
    }
   ],
   "source": [
    "l=[]\n",
    "d={\"s\":{\"a\":45}}\n",
    "for i in d:\n",
    "    if type(d[i]) == dict:\n",
    "        print(True)\n",
    "        l.append(max(d[i].values()))\n",
    "    elif type(d[i]) == list or type(d[i]) == tuple:\n",
    "        l.append(max(d[i]))\n",
    "print(l)\n"
   ]
  },
  {
   "cell_type": "code",
   "execution_count": 32,
   "metadata": {},
   "outputs": [
    {
     "name": "stdout",
     "output_type": "stream",
     "text": [
      "83\n"
     ]
    }
   ],
   "source": [
    "# Q. Find the maximum integer out of all the values from a given dictionary d1\n",
    "\n",
    "##### SOLUTION: 1 #####\n",
    "\n",
    "d1 = {\n",
    "    \"apdaga\": {\n",
    "        \"a\":12,\n",
    "        \"b\":65,\n",
    "        \"c\":7\n",
    "    },\n",
    "    \"dumpbox\":{\n",
    "        \"d\":34,\n",
    "        \"e\":83,\n",
    "        \"f\":45\n",
    "    },\n",
    "    \"g\":34,\n",
    "    \"h\":[35,6,2,9,3],\n",
    "    \"i\":(65,34,2),\n",
    "    \"k\":\"akshay\"\n",
    "}\n",
    "\n",
    "# print(d1)\n",
    "\n",
    "out=[]\n",
    "\n",
    "for k,v in d1.items():\n",
    "    if type(v) == dict:\n",
    "        out.extend(list(v.values()))\n",
    "    elif type(v) == int:\n",
    "        out.append(v)\n",
    "    elif type(v) == list:\n",
    "        out.append(max(v))\n",
    "    elif type(v) == tuple:\n",
    "        out.append(max(v))\n",
    "    else:\n",
    "        pass\n",
    "    \n",
    "print(max(out))\n"
   ]
  },
  {
   "cell_type": "code",
   "execution_count": 33,
   "metadata": {},
   "outputs": [
    {
     "data": {
      "text/plain": [
       "[14, 10, 4, 45, 34, 1, 45, 6, 7, 8, 9, 3, 45, 34, 2]"
      ]
     },
     "execution_count": 33,
     "metadata": {},
     "output_type": "execute_result"
    }
   ],
   "source": [
    "#Another approach\n",
    "d_1 = {\"ineuron\" : {\n",
    "                        \"a\" : 14,\n",
    "                        \"b\" : 10,\n",
    "                        \"c\" : 4\n",
    "                        },\n",
    "          \"course\" : {\n",
    "                      \"d\" : 45,\n",
    "                      \"e\" : 34,\n",
    "                      \"f\" : 1\n",
    "                      },\n",
    "       \"g\" : 34,\n",
    "       \"h\" : [45,6,7,8,9,3],\n",
    "       \"i\" : (45,34,2),\n",
    "       \"k\" : \"sudh\"\n",
    "}\n",
    "\n",
    "l = []\n",
    "for i in d_1.values():\n",
    "    if type(i) != str and type(i)!= complex:\n",
    "        if type(i) == list or type(i) == tuple or type(i) == set:\n",
    "            l.extend(list(i))\n",
    "        elif type(i) == dict:\n",
    "            for j in i.values():\n",
    "                l.append(j)\n",
    "l"
   ]
  },
  {
   "cell_type": "code",
   "execution_count": 35,
   "metadata": {},
   "outputs": [
    {
     "name": "stdout",
     "output_type": "stream",
     "text": [
      "45\n"
     ]
    }
   ],
   "source": [
    "print(max(l))"
   ]
  },
  {
   "cell_type": "code",
   "execution_count": 38,
   "metadata": {},
   "outputs": [],
   "source": [
    "#Another approach\n",
    "d = {\"ineuron\": {\"a\":14,\n",
    "                \"b\":10,\n",
    "                \"c\":4\n",
    "                },\n",
    "    'course' : {'d': 45,\n",
    "               \"e\" : 34,\n",
    "               \"f\": 1},\n",
    "     \"g\" : 34,\n",
    "     \"h\" : [45, 6, 7, 78, 9,3],\n",
    "     \"i\" : (45, 34, 2),\n",
    "     \"k\" : \"sudh\"\n",
    "    }\n"
   ]
  },
  {
   "cell_type": "code",
   "execution_count": 39,
   "metadata": {},
   "outputs": [
    {
     "data": {
      "text/plain": [
       "78"
      ]
     },
     "execution_count": 39,
     "metadata": {},
     "output_type": "execute_result"
    }
   ],
   "source": [
    "\n",
    "l1 = []\n",
    "for i in d:\n",
    "    if type(d[i]) == int:\n",
    "            l1.append(d[i])\n",
    "    elif type(d[i]) == str:\n",
    "            continue\n",
    "    elif type(d[i]) == dict:\n",
    "            l1.extend(list(d[i].values()))\n",
    "    else:\n",
    "            l1.extend(list(d[i]))\n",
    "max(l1)\n"
   ]
  },
  {
   "cell_type": "code",
   "execution_count": 50,
   "metadata": {},
   "outputs": [
    {
     "name": "stdout",
     "output_type": "stream",
     "text": [
      "1\n",
      "1\n",
      "12\n",
      "2\n",
      "12\n",
      "1\n",
      "1\n",
      "121\n",
      "0\n"
     ]
    }
   ],
   "source": [
    "a = 121\n",
    "c = 0 \n",
    "while (a >0):\n",
    "    d = a \n",
    "    b = a%10\n",
    "    print(b)\n",
    "    c = c*10 +b\n",
    "    print(c)\n",
    "\n",
    "    a = int(a/10)\n",
    "    print(a)\n",
    "\n",
    "\n"
   ]
  },
  {
   "cell_type": "code",
   "execution_count": null,
   "metadata": {},
   "outputs": [],
   "source": [
    "d ={\"ineruon\" : {\n",
    "                    \"a\": 14,\n",
    "                    \"b\": 10,\n",
    "                    \"c\": 4\n",
    "                    },\n",
    "        \"course\" :  {\n",
    "                        \"d\":45,\n",
    "                        \"e\":34,\n",
    "                        \"f\":1,\n",
    "                    },\n",
    "    \"g\" : 34,\n",
    "    \"h\" : [45,6,7,8,9,3],\n",
    "    \"i\" : (45,34,2),\n",
    "    \"k\" : \"asdf\"\n",
    "     }\n",
    "#find max integer\n",
    "\n",
    "l=[]\n",
    "for i in d.values():\n",
    "    if type(i)== dict:\n",
    "        l.append(i.values())\n",
    "    elif type(i)== str or type(i)== complex:\n",
    "        pass\n",
    "    else :\n",
    "        l.extend(list(i))\n",
    "print(max(l))\n"
   ]
  },
  {
   "cell_type": "code",
   "execution_count": null,
   "metadata": {},
   "outputs": [],
   "source": [
    "dict_1={\"ineuron\":{\"a\":14,\n",
    "                \"b\":10,\n",
    "                \"c\":4},\n",
    "   'course' : {'d':344,\n",
    "      'e':34,\n",
    "      'f':1},\"g\":34,\"h\":[45,6,7,8,9,3],'i':(45,34,2),'k':'sudh'\n",
    "    }\n"
   ]
  },
  {
   "cell_type": "code",
   "execution_count": null,
   "metadata": {},
   "outputs": [],
   "source": [
    "d = {\"ineuron\":{\"a\":14,\"b\":10,\"c\":4},\n",
    "     \"course\":{\"d\":\"fails\",\"e\":34,\"f\":1},\n",
    "      \"g\":345,\"h\":[45,6,\"check\",8,9,3],\"i\":(\"hope\",45,34,2),\"k\":\"sudh\"}\n"
   ]
  },
  {
   "cell_type": "code",
   "execution_count": 48,
   "metadata": {},
   "outputs": [],
   "source": [
    "lst=[]\n",
    "for k,v in d.items():\n",
    "    if type(v)==dict:\n",
    "        lst.extend(list(v.values()))\n",
    "    elif type(v)==tuple:\n",
    "                for i in v : \n",
    "                    if type(i) == int:\n",
    "                        lst.append(i)\n",
    "                   \n",
    "    elif type(v)==list:\n",
    "        for i in v : \n",
    "            if type(i) == int:\n",
    "                    lst.append(i)\n",
    "    elif type(v)==set:\n",
    "        lst.append(v)\n",
    "    else:\n",
    "        pass"
   ]
  },
  {
   "cell_type": "code",
   "execution_count": 49,
   "metadata": {},
   "outputs": [
    {
     "data": {
      "text/plain": [
       "[14, 10, 4, 45, 34, 1, 45, 6, 7, 78, 9, 3, 45, 34, 2]"
      ]
     },
     "execution_count": 49,
     "metadata": {},
     "output_type": "execute_result"
    }
   ],
   "source": [
    "lst"
   ]
  },
  {
   "cell_type": "code",
   "execution_count": null,
   "metadata": {},
   "outputs": [],
   "source": [
    "d_1 = {\"ineuron\" :{\n",
    "    \"a\":14,\n",
    "    \"b\":10,\n",
    "    \"c\":4\n",
    "},\n",
    "      \"course\":{\n",
    "          'd':45,\n",
    "          'e':34,\n",
    "          'f':1\n",
    "      },\n",
    "      \"g\": 34,\n",
    "      \"h\": [45,6,7,100,3,9],\n",
    "      \"i\": (45,84,2),\n",
    "      \"k\": \"sudh\"\n",
    "}\n",
    "\n",
    "max1=[]\n",
    "for code,dict3 in d_1.items():\n",
    "    if isinstance(dict3,dict):\n",
    "        for letter,value in dict3.items():\n",
    "            max1.append(value)\n",
    "    else:\n",
    "        if type(d_1[code]) == list:\n",
    "            max1.extend(d_1[code])\n",
    "        elif type(d_1[code]) == tuple:\n",
    "            max1.extend(d_1[code])\n",
    "        else:\n",
    "            continue\n",
    "\n",
    "print(\"the max number is\", max(max1))\n"
   ]
  },
  {
   "cell_type": "code",
   "execution_count": 47,
   "metadata": {},
   "outputs": [
    {
     "name": "stdout",
     "output_type": "stream",
     "text": [
      "56\n"
     ]
    }
   ],
   "source": [
    "d_mix = {\"neuron\": {  \"a\":1,   \"b\":2,  \"c\" :3 }, \n",
    "               \"course\": {  \"d\":4,   \"e\": 5 },\n",
    "                \"f\": 7, \n",
    "                \"g\": [1,4,7,10],\n",
    "                \"h\":(4,56,1), \n",
    "                \"i\": 'kmr'\n",
    "                } \n",
    "li =[]\n",
    "for i in d_mix.values():\n",
    "    if type(i) != str and type(i) != complex:\n",
    "        if type(i) ==list or type(i) ==tuple or type(i) ==set:\n",
    "            \n",
    "            #li.append(max(i))\n",
    "            li.extend(list(i))\n",
    "    \n",
    "        elif type(i) == dict:\n",
    "            li.append(max(i.values()))\n",
    "        elif type(i) == int:\n",
    "                      li.append((i))\n",
    "        else:\n",
    "            pass\n",
    "print(max(li))\n"
   ]
  },
  {
   "cell_type": "code",
   "execution_count": 45,
   "metadata": {},
   "outputs": [
    {
     "name": "stdout",
     "output_type": "stream",
     "text": [
      "<class 'str'> Con't find max because data type is different\n",
      "78\n"
     ]
    }
   ],
   "source": [
    "lst=[]\n",
    "my_lst=[]\n",
    "for i in d.values():\n",
    "    if type(i)==dict:\n",
    "        lst.extend(list(i.values()))\n",
    "    elif type(i)==int:\n",
    "        lst.append(i)\n",
    "    elif type(i)==list:\n",
    "        lst.extend(i)\n",
    "    elif type(i)==tuple:\n",
    "        lst.extend(i)\n",
    "    else:\n",
    "        print(type(i),\"Con't find max because data type is different\")\n",
    "print(max(lst ))\n"
   ]
  },
  {
   "cell_type": "code",
   "execution_count": 46,
   "metadata": {},
   "outputs": [
    {
     "data": {
      "text/plain": [
       "{'ineuron': {'a': 14, 'b': 10, 'c': 4},\n",
       " 'course': {'d': 45, 'e': 34, 'f': 1},\n",
       " 'g': 34,\n",
       " 'h': [45, 6, 7, 78, 9, 3],\n",
       " 'i': (45, 34, 2),\n",
       " 'k': 'sudh'}"
      ]
     },
     "execution_count": 46,
     "metadata": {},
     "output_type": "execute_result"
    }
   ],
   "source": [
    "d"
   ]
  },
  {
   "cell_type": "code",
   "execution_count": null,
   "metadata": {},
   "outputs": [],
   "source": []
  }
 ],
 "metadata": {
  "kernelspec": {
   "display_name": "Python 3",
   "language": "python",
   "name": "python3"
  },
  "language_info": {
   "codemirror_mode": {
    "name": "ipython",
    "version": 3
   },
   "file_extension": ".py",
   "mimetype": "text/x-python",
   "name": "python",
   "nbconvert_exporter": "python",
   "pygments_lexer": "ipython3",
   "version": "3.8.8"
  }
 },
 "nbformat": 4,
 "nbformat_minor": 4
}
