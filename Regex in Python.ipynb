{
 "cells": [
  {
   "cell_type": "code",
   "execution_count": 99,
   "id": "982ab741",
   "metadata": {},
   "outputs": [],
   "source": [
    "import re"
   ]
  },
  {
   "cell_type": "code",
   "execution_count": 100,
   "id": "7c5faabc",
   "metadata": {},
   "outputs": [
    {
     "name": "stdout",
     "output_type": "stream",
     "text": [
      "match is available at start index: 0\n",
      "match is available at start index: 3\n",
      "match is available at start index: 5\n",
      "The number of occurences 3\n"
     ]
    }
   ],
   "source": [
    "count=0\n",
    "pattern=re.compile('ab')\n",
    "#type(pattern)\n",
    "matcher=pattern.finditer('abaababa')\n",
    "for match in matcher:\n",
    "    count=count+1\n",
    "    print('match is available at start index:',match.start())\n",
    "print('The number of occurences', count)"
   ]
  },
  {
   "cell_type": "code",
   "execution_count": 101,
   "id": "aee5a5bf",
   "metadata": {},
   "outputs": [
    {
     "name": "stdout",
     "output_type": "stream",
     "text": [
      "match is available at start index: 1\n",
      "match is available at start index: 4\n",
      "match is available at start index: 6\n",
      "The number of occurences 3\n"
     ]
    }
   ],
   "source": [
    "count=0\n",
    "pattern=re.compile('ba')\n",
    "#type(pattern)\n",
    "matcher=pattern.finditer('abaababa')\n",
    "for match in matcher:\n",
    "    count=count+1\n",
    "    print('match is available at start index:',match.start())\n",
    "print('The number of occurences', count)"
   ]
  },
  {
   "cell_type": "code",
   "execution_count": 102,
   "id": "0ed0d045",
   "metadata": {},
   "outputs": [
    {
     "name": "stdout",
     "output_type": "stream",
     "text": [
      "The number of occurences 0\n"
     ]
    }
   ],
   "source": [
    "# Start(): Start index of the match\n",
    "# end(): return the ending position of the match end+1\n",
    "# group() : extract the match value and return\n",
    "# span(): return a tuple containing the (start, end) positions of the match\n",
    "count=0\n",
    "pattern=re.compile('bb')\n",
    "#type(pattern)\n",
    "matcher=pattern.finditer('abaababa')\n",
    "for match in matcher:\n",
    "    count=count+1\n",
    "    print('match is available at start index:',match.start()) \n",
    "print('The number of occurences', count)"
   ]
  },
  {
   "cell_type": "code",
   "execution_count": 103,
   "id": "93c3b664",
   "metadata": {},
   "outputs": [
    {
     "name": "stdout",
     "output_type": "stream",
     "text": [
      "start:0,end:2,group:ab\n",
      "start:3,end:5,group:ab\n",
      "start:5,end:7,group:ab\n",
      "The number of occurences  3\n"
     ]
    }
   ],
   "source": [
    "count=0\n",
    "pattern=re.compile('ab')\n",
    "matcher=pattern.finditer('abaababa')\n",
    "for m in matcher:\n",
    "    count=count+1\n",
    "    print('start:{},end:{},group:{}'.format(m.start(),m.end(),m.group()))\n",
    "print('The number of occurences ', count)"
   ]
  },
  {
   "cell_type": "code",
   "execution_count": 104,
   "id": "749cf7db",
   "metadata": {},
   "outputs": [
    {
     "name": "stdout",
     "output_type": "stream",
     "text": [
      "start:1,end:3,group:ba\n",
      "start:4,end:6,group:ba\n",
      "start:6,end:8,group:ba\n",
      "The number of occurences  3\n"
     ]
    }
   ],
   "source": [
    "# compile-->Compile a regular expression pattern, returning a Pattern object.\n",
    "# finditer -->Return an iterator over all non-overlapping matches for the RE pattern in string.\n",
    "count=0\n",
    "pattern=re.compile('ba')\n",
    "matcher=pattern.finditer('abaababa')\n",
    "for m in matcher:\n",
    "    count=count+1\n",
    "    print('start:{},end:{},group:{}'.format(m.start(),m.end(),m.group()))\n",
    "print('The number of occurences ', count)"
   ]
  },
  {
   "cell_type": "code",
   "execution_count": 105,
   "id": "d7416d1e",
   "metadata": {},
   "outputs": [
    {
     "name": "stdout",
     "output_type": "stream",
     "text": [
      "start:0,end:2,group:ab\n",
      "start:3,end:5,group:ab\n",
      "start:5,end:7,group:ab\n",
      "The number of occurences  3\n"
     ]
    }
   ],
   "source": [
    "count=0\n",
    "matcher=re.finditer('ab','abaababa')\n",
    "for m in matcher:\n",
    "    count=count+1\n",
    "    print('start:{},end:{},group:{}'.format(m.start(),m.end(),m.group()))\n",
    "print('The number of occurences ', count)"
   ]
  },
  {
   "cell_type": "code",
   "execution_count": 106,
   "id": "8803eadb",
   "metadata": {},
   "outputs": [],
   "source": [
    "# Charcter classes\n",
    "# [abc]==> either a or b or c\n",
    "# [^abc]==> Except a and b and c\n",
    "# [a-z]==> any lower case alphabet symbol\n",
    "# [A-Z]==> any upper case alphabet symbol\n",
    "# [a-zA-Z]==> any alphabet symbol\n",
    "# [0-9]==> any digit\n",
    "# [a-zA-Z0-9]==> any alphaneumeric character\n",
    "# [^a-zA-Z0-9]==> other than any alphaneumeric character like *,#,$,%,@\n"
   ]
  },
  {
   "cell_type": "code",
   "execution_count": 107,
   "id": "fb8a9220",
   "metadata": {},
   "outputs": [
    {
     "name": "stdout",
     "output_type": "stream",
     "text": [
      "0 a\n",
      "2 b\n"
     ]
    }
   ],
   "source": [
    "# abc matching \n",
    "matcher=re.finditer('[abc]','a7b@k9z')\n",
    "for m in matcher:\n",
    "    print(m.start(),m.group())"
   ]
  },
  {
   "cell_type": "code",
   "execution_count": 108,
   "id": "07507ed4",
   "metadata": {},
   "outputs": [
    {
     "name": "stdout",
     "output_type": "stream",
     "text": [
      "1 7\n",
      "3 @\n",
      "4 k\n",
      "5 9\n",
      "6 z\n"
     ]
    }
   ],
   "source": [
    "# Except abc matching \n",
    "matcher=re.finditer('[^abc]','a7b@k9z')\n",
    "for m in matcher:\n",
    "    print(m.start(),m.group())"
   ]
  },
  {
   "cell_type": "code",
   "execution_count": 109,
   "id": "db2e63d3",
   "metadata": {},
   "outputs": [
    {
     "name": "stdout",
     "output_type": "stream",
     "text": [
      "0 a\n",
      "2 b\n",
      "4 k\n",
      "6 z\n"
     ]
    }
   ],
   "source": [
    "# matching a-z\n",
    "matcher=re.finditer('[a-z]','a7b@k9z')\n",
    "for m in matcher:\n",
    "    print(m.start(),m.group())"
   ]
  },
  {
   "cell_type": "code",
   "execution_count": 110,
   "id": "ef671a54",
   "metadata": {},
   "outputs": [
    {
     "name": "stdout",
     "output_type": "stream",
     "text": [
      "1 7\n",
      "5 9\n"
     ]
    }
   ],
   "source": [
    "# matching [0-9]\n",
    "matcher=re.finditer('[0-9]','a7b@k9z')\n",
    "for m in matcher:\n",
    "    print(m.start(),m.group())"
   ]
  },
  {
   "cell_type": "code",
   "execution_count": 111,
   "id": "bc101f4b",
   "metadata": {},
   "outputs": [
    {
     "name": "stdout",
     "output_type": "stream",
     "text": [
      "0 a\n",
      "1 7\n",
      "2 b\n",
      "4 k\n",
      "5 9\n",
      "6 z\n"
     ]
    }
   ],
   "source": [
    "# matching [a-zA-Z0-9]\n",
    "matcher=re.finditer('[a-zA-Z0-9]','a7b@k9z')\n",
    "for m in matcher:\n",
    "    print(m.start(),m.group())"
   ]
  },
  {
   "cell_type": "code",
   "execution_count": 112,
   "id": "0e097b05",
   "metadata": {},
   "outputs": [
    {
     "name": "stdout",
     "output_type": "stream",
     "text": [
      "3 @\n"
     ]
    }
   ],
   "source": [
    "#  [^a-zA-Z0-9]\n",
    "matcher=re.finditer('[^a-zA-Z0-9]','a7b@k9z')\n",
    "for m in matcher:\n",
    "    print(m.start(),m.group())"
   ]
  },
  {
   "cell_type": "code",
   "execution_count": 113,
   "id": "ff03e802",
   "metadata": {},
   "outputs": [],
   "source": [
    "# Predifined character classes\n",
    "# \\s---> space character\n",
    "# \\S---> Except space character\n",
    "# \\d--> [0-9] any digit\n",
    "# \\D--> Except digits\n",
    "# \\w--> any word charcter(alpha numeric charcter)[a-zA-Z0-9]\n",
    "# \\W--> any character except word(special charcter)[^a-zA-Z0-9]\n",
    "# .--> Every character"
   ]
  },
  {
   "cell_type": "code",
   "execution_count": 114,
   "id": "ba696680",
   "metadata": {},
   "outputs": [
    {
     "name": "stdout",
     "output_type": "stream",
     "text": [
      "3  \n"
     ]
    }
   ],
   "source": [
    "# \\s---> space character\n",
    "matcher=re.finditer('\\s','a7b @k9z')\n",
    "for m in matcher:\n",
    "    print(m.start(),m.group())"
   ]
  },
  {
   "cell_type": "code",
   "execution_count": 115,
   "id": "44241831",
   "metadata": {},
   "outputs": [
    {
     "name": "stdout",
     "output_type": "stream",
     "text": [
      "0 a\n",
      "1 7\n",
      "2 b\n",
      "4 @\n",
      "5 k\n",
      "6 9\n",
      "7 z\n"
     ]
    }
   ],
   "source": [
    "# \\S---> Except space character\n",
    "matcher=re.finditer('\\S','a7b @k9z')\n",
    "for m in matcher:\n",
    "    print(m.start(),m.group())"
   ]
  },
  {
   "cell_type": "code",
   "execution_count": 116,
   "id": "5e9531d5",
   "metadata": {},
   "outputs": [
    {
     "name": "stdout",
     "output_type": "stream",
     "text": [
      "1 7\n",
      "6 9\n"
     ]
    }
   ],
   "source": [
    "# \\d--> [0-9] any digit\n",
    "matcher=re.finditer('\\d','a7b @k9z')\n",
    "for m in matcher:\n",
    "    print(m.start(),m.group())"
   ]
  },
  {
   "cell_type": "code",
   "execution_count": 117,
   "id": "989ade29",
   "metadata": {},
   "outputs": [
    {
     "name": "stdout",
     "output_type": "stream",
     "text": [
      "0 a\n",
      "2 b\n",
      "3  \n",
      "4 @\n",
      "5 k\n",
      "7 z\n"
     ]
    }
   ],
   "source": [
    "# \\D--> Except digits\n",
    "matcher=re.finditer('\\D','a7b @k9z')\n",
    "for m in matcher:\n",
    "    print(m.start(),m.group())"
   ]
  },
  {
   "cell_type": "code",
   "execution_count": 118,
   "id": "f7afecc2",
   "metadata": {},
   "outputs": [
    {
     "name": "stdout",
     "output_type": "stream",
     "text": [
      "0 a\n",
      "1 7\n",
      "2 b\n",
      "5 k\n",
      "6 9\n",
      "7 z\n"
     ]
    }
   ],
   "source": [
    "# \\w--> any word charcter(alpha numeric charcter)[a-zA-Z0-9]\n",
    "matcher=re.finditer('\\w','a7b @k9z')\n",
    "for m in matcher:\n",
    "    print(m.start(),m.group())"
   ]
  },
  {
   "cell_type": "code",
   "execution_count": 119,
   "id": "098cd642",
   "metadata": {},
   "outputs": [
    {
     "name": "stdout",
     "output_type": "stream",
     "text": [
      "3  \n",
      "4 @\n"
     ]
    }
   ],
   "source": [
    "# \\W--> any character except word(special charcter)[^a-zA-Z0-9] returns special character\n",
    "matcher=re.finditer('\\W','a7b @k9z')\n",
    "for m in matcher:\n",
    "    print(m.start(),m.group())"
   ]
  },
  {
   "cell_type": "code",
   "execution_count": 120,
   "id": "18d44e6c",
   "metadata": {},
   "outputs": [
    {
     "name": "stdout",
     "output_type": "stream",
     "text": [
      "0 a\n",
      "1 7\n",
      "2 b\n",
      "3  \n",
      "4 @\n",
      "5 k\n",
      "6 9\n",
      "7 z\n"
     ]
    }
   ],
   "source": [
    "# .--> Every character\n",
    "matcher=re.finditer('.','a7b @k9z')\n",
    "for m in matcher:\n",
    "    print(m.start(),m.group())"
   ]
  },
  {
   "cell_type": "code",
   "execution_count": 121,
   "id": "04cb2006",
   "metadata": {},
   "outputs": [
    {
     "name": "stdout",
     "output_type": "stream",
     "text": [
      "0 a\n",
      "2 a\n",
      "3 a\n",
      "5 a\n",
      "6 a\n",
      "7 a\n"
     ]
    }
   ],
   "source": [
    "# Quantifiers are used to specify the number of occurences to match\n",
    "matcher=re.finditer('a','abaabaaab')\n",
    "for m in matcher:\n",
    "    print(m.start(),m.group())"
   ]
  },
  {
   "cell_type": "code",
   "execution_count": 122,
   "id": "ceb319e8",
   "metadata": {},
   "outputs": [
    {
     "name": "stdout",
     "output_type": "stream",
     "text": [
      "0 a\n",
      "2 a\n",
      "3 a\n",
      "5 a\n",
      "6 a\n",
      "7 a\n"
     ]
    }
   ],
   "source": [
    "# a-->exactly one 'a'\n",
    "matcher=re.finditer('a','abaabaaab')\n",
    "for m in matcher:\n",
    "    print(m.start(),m.group())"
   ]
  },
  {
   "cell_type": "code",
   "execution_count": 123,
   "id": "aa6dc148",
   "metadata": {},
   "outputs": [
    {
     "name": "stdout",
     "output_type": "stream",
     "text": [
      "0 a\n",
      "2 aa\n",
      "5 aaa\n"
     ]
    }
   ],
   "source": [
    "# a+--> atleast one 'a'\n",
    "matcher=re.finditer('a+','abaabaaab')\n",
    "for m in matcher:\n",
    "    print(m.start(),m.group())"
   ]
  },
  {
   "cell_type": "code",
   "execution_count": 124,
   "id": "77fba92f",
   "metadata": {},
   "outputs": [
    {
     "name": "stdout",
     "output_type": "stream",
     "text": [
      "0 a\n",
      "1 \n",
      "2 aa\n",
      "4 \n",
      "5 aaa\n",
      "8 \n",
      "9 \n"
     ]
    }
   ],
   "source": [
    "# a*--> any no of a's including zero number of a's also\n",
    "matcher=re.finditer('a*','abaabaaab')\n",
    "for m in matcher:\n",
    "    print(m.start(),m.group())"
   ]
  },
  {
   "cell_type": "code",
   "execution_count": 125,
   "id": "1cd842c9",
   "metadata": {},
   "outputs": [
    {
     "name": "stdout",
     "output_type": "stream",
     "text": [
      "0 a\n",
      "1 \n",
      "2 a\n",
      "3 a\n",
      "4 \n",
      "5 a\n",
      "6 a\n",
      "7 a\n",
      "8 \n",
      "9 \n"
     ]
    }
   ],
   "source": [
    "# a?--> atmost one a or zero number of a's\n",
    "matcher=re.finditer('a?','abaabaaab')\n",
    "for m in matcher:\n",
    "    print(m.start(),m.group())"
   ]
  },
  {
   "cell_type": "code",
   "execution_count": 126,
   "id": "f0b62789",
   "metadata": {},
   "outputs": [
    {
     "name": "stdout",
     "output_type": "stream",
     "text": [
      "5 aaa\n"
     ]
    }
   ],
   "source": [
    "# a{n}--> Exactly n number of a's\n",
    "matcher=re.finditer('a{3}','abaabaaab')\n",
    "for m in matcher:\n",
    "    print(m.start(),m.group())"
   ]
  },
  {
   "cell_type": "code",
   "execution_count": 127,
   "id": "fbac16df",
   "metadata": {},
   "outputs": [
    {
     "name": "stdout",
     "output_type": "stream",
     "text": [
      "2 aa\n",
      "5 aaa\n"
     ]
    }
   ],
   "source": [
    "# a{m,n}--> minimum m number of a's maximum n number of a's\n",
    "# a{2,4}\n",
    "matcher=re.finditer('a{2,3}','abaabaaab')\n",
    "for m in matcher:\n",
    "    print(m.start(),m.group())"
   ]
  },
  {
   "cell_type": "code",
   "execution_count": 128,
   "id": "ccd0b50a",
   "metadata": {},
   "outputs": [
    {
     "name": "stdout",
     "output_type": "stream",
     "text": [
      "2 aa\n",
      "5 aaa\n"
     ]
    }
   ],
   "source": [
    "# a{2}a* --> 2 a's mandatory after any number of a's\n",
    "matcher=re.finditer('a{2}a*','abaabaaab')\n",
    "for m in matcher:\n",
    "    print(m.start(),m.group())"
   ]
  },
  {
   "cell_type": "code",
   "execution_count": 129,
   "id": "22e9901b",
   "metadata": {},
   "outputs": [
    {
     "name": "stdout",
     "output_type": "stream",
     "text": [
      "0 a\n"
     ]
    }
   ],
   "source": [
    "# ^a--> it will check string starts with 'a' or not\n",
    "matcher=re.finditer('^a','abaabaaab')\n",
    "for m in matcher:\n",
    "    print(m.start(),m.group())"
   ]
  },
  {
   "cell_type": "code",
   "execution_count": 130,
   "id": "75b32bc5",
   "metadata": {},
   "outputs": [],
   "source": [
    "# a$--> it will check string ends with 'a' or not\n",
    "matcher=re.finditer('a$','abaabaaab')\n",
    "for m in matcher:\n",
    "    print(m.start(),m.group())"
   ]
  },
  {
   "cell_type": "code",
   "execution_count": 131,
   "id": "02278768",
   "metadata": {},
   "outputs": [
    {
     "name": "stdout",
     "output_type": "stream",
     "text": [
      "8 b\n"
     ]
    }
   ],
   "source": [
    "# b$--> it will check string ends with 'b' or not\n",
    "matcher=re.finditer('b$','abaabaaab')\n",
    "for m in matcher:\n",
    "    print(m.start(),m.group())"
   ]
  },
  {
   "cell_type": "code",
   "execution_count": 132,
   "id": "f28dda6f",
   "metadata": {},
   "outputs": [
    {
     "name": "stdout",
     "output_type": "stream",
     "text": [
      "enter pattern to check:a\n",
      "Match is available at beginning of the string\n",
      "Start index:0 and End index:1\n"
     ]
    }
   ],
   "source": [
    "#Important functions of re module otherthan finditer() and compile()\n",
    "'''\n",
    "match()--> the check given pattern is in the beginning \n",
    "of target string or not, if available returns match \n",
    "object otherwise returns None\n",
    "''' \n",
    "s=input('enter pattern to check:')\n",
    "m=re.match(s,'abcdgh')\n",
    "if m!= None:\n",
    "    print('Match is available at beginning of the string')\n",
    "    print('Start index:{} and End index:{}'.format(m.start(),m.end()))\n",
    "else:\n",
    "    print('Match is not available at beginning of the string')\n"
   ]
  },
  {
   "cell_type": "code",
   "execution_count": 133,
   "id": "3c337ef0",
   "metadata": {},
   "outputs": [
    {
     "name": "stdout",
     "output_type": "stream",
     "text": [
      "enter pattern to check:b\n",
      "Match is not available at beginning of the string\n"
     ]
    }
   ],
   "source": [
    "s=input('enter pattern to check:')\n",
    "m=re.match(s,'abcdgh')\n",
    "if m!= None:\n",
    "    print('Match is available at beginning of the string')\n",
    "    print('Start index:{} and End index:{}'.format(m.start(),m.end()))\n",
    "else:\n",
    "    print('Match is not available at beginning of the string') # end() --> end index +1"
   ]
  },
  {
   "cell_type": "code",
   "execution_count": 134,
   "id": "e2175a8d",
   "metadata": {},
   "outputs": [
    {
     "name": "stdout",
     "output_type": "stream",
     "text": [
      "enter pattern to check:a\n",
      "Full String not matched\n"
     ]
    }
   ],
   "source": [
    "# fullmatch()--> complete string should match otherwise returns None\n",
    "s=input('enter pattern to check:')\n",
    "m=re.fullmatch(s,'abcdgh')\n",
    "if m!= None:\n",
    "    print('Full String matched')\n",
    "else:\n",
    "    print('Full String not matched')"
   ]
  },
  {
   "cell_type": "code",
   "execution_count": 135,
   "id": "f96c251d",
   "metadata": {},
   "outputs": [
    {
     "name": "stdout",
     "output_type": "stream",
     "text": [
      "enter pattern to check:abcdgh\n",
      "Full String matched\n"
     ]
    }
   ],
   "source": [
    "# fullmatch()--> complete string should match otherwise returns None\n",
    "s=input('enter pattern to check:')\n",
    "m=re.fullmatch(s,'abcdgh')\n",
    "if m!= None:\n",
    "    print('Full String matched')\n",
    "else:\n",
    "    print('Full String not matched')"
   ]
  },
  {
   "cell_type": "code",
   "execution_count": 136,
   "id": "a7229a72",
   "metadata": {},
   "outputs": [
    {
     "name": "stdout",
     "output_type": "stream",
     "text": [
      "enter pattern to check:ab\n",
      "Match is available\n",
      "First occurence with start index:0 and end index:2\n"
     ]
    }
   ],
   "source": [
    "# Search()--> to search the given pattern in string returns the 1st occurences of match if no matches returns Null\n",
    "'''\n",
    "if Match object\n",
    "'''\n",
    "s=input('enter pattern to check:')\n",
    "m=re.search(s,'abaabaaab')\n",
    "if m!= None:\n",
    "    print('Match is available')\n",
    "    print('First occurence with start index:{} and end index:{}'.format(m.start(),m.end()))\n",
    "else:\n",
    "    print('Full String not matched')"
   ]
  },
  {
   "cell_type": "code",
   "execution_count": 137,
   "id": "db5aed81",
   "metadata": {},
   "outputs": [
    {
     "name": "stdout",
     "output_type": "stream",
     "text": [
      "['7', '9', '6']\n"
     ]
    }
   ],
   "source": [
    "# findall()--> find all matches and returns list\n",
    "l=re.findall('[0-9]','a7b9k6z')\n",
    "print(l)"
   ]
  },
  {
   "cell_type": "code",
   "execution_count": 138,
   "id": "b9f16020",
   "metadata": {},
   "outputs": [
    {
     "name": "stdout",
     "output_type": "stream",
     "text": [
      "['#', ' ', '$']\n"
     ]
    }
   ],
   "source": [
    "# findall()--> find all matches and returns list\n",
    "l=re.findall('\\W','a7# sfj$9')\n",
    "print(l)"
   ]
  },
  {
   "cell_type": "code",
   "execution_count": 139,
   "id": "9bcbf67e",
   "metadata": {},
   "outputs": [
    {
     "name": "stdout",
     "output_type": "stream",
     "text": [
      "['a', 's', 'f', 'j']\n"
     ]
    }
   ],
   "source": [
    "# findall()--> find all matches and returns list\n",
    "l=re.findall('[a-z]','a7# sfj$9')\n",
    "print(l)"
   ]
  },
  {
   "cell_type": "code",
   "execution_count": 140,
   "id": "52843004",
   "metadata": {},
   "outputs": [
    {
     "name": "stdout",
     "output_type": "stream",
     "text": [
      "0 1 a\n",
      "2 3 #\n",
      "3 4  \n",
      "4 5 s\n",
      "5 6 f\n",
      "6 7 j\n",
      "7 8 $\n"
     ]
    }
   ],
   "source": [
    "# finditer()--> it returns of matched objects\n",
    "matcher=re.finditer('\\D','a7# sfj$9')\n",
    "for m in matcher:\n",
    "    print(m.start(),m.end(),m.group())"
   ]
  },
  {
   "cell_type": "code",
   "execution_count": 141,
   "id": "b158edff",
   "metadata": {},
   "outputs": [
    {
     "name": "stdout",
     "output_type": "stream",
     "text": [
      "a#b#k#t#k\n"
     ]
    }
   ],
   "source": [
    "# sub()--> substitution or replacement( replace with new element)\n",
    "#re.sub(regex,replacement,targetstring)\n",
    "s=re.sub('\\d','#','a7b9k5t9k') # digit replaced with #\n",
    "print(s)"
   ]
  },
  {
   "cell_type": "code",
   "execution_count": 142,
   "id": "b77b0298",
   "metadata": {},
   "outputs": [
    {
     "name": "stdout",
     "output_type": "stream",
     "text": [
      "axxxxbxxxxkxxxxtxxxxk\n"
     ]
    }
   ],
   "source": [
    "# sub()--> substitution or replacement( replace with new element)\n",
    "#re.sub(regex/pattern,replacement,targetstring)\n",
    "s=re.sub('\\d','xxxx','a7b9k5t9k') # digit replaced with #\n",
    "print(s)"
   ]
  },
  {
   "cell_type": "code",
   "execution_count": 143,
   "id": "32763a25",
   "metadata": {},
   "outputs": [
    {
     "name": "stdout",
     "output_type": "stream",
     "text": [
      "<class 'tuple'>\n",
      "The result string axxxxbxxxxkxxxxtxxxxk\n",
      "The number of replacement:  4\n"
     ]
    }
   ],
   "source": [
    "# subn()--> replacement with count no of replacement happend\n",
    "# It returns tuple(resultstring, no. of replacements)\n",
    "t=re.subn('\\d','xxxx','a7b9k5t9k')\n",
    "print(type(t))\n",
    "print('The result string',t[0])\n",
    "print('The number of replacement: ',t[1])"
   ]
  },
  {
   "cell_type": "code",
   "execution_count": 144,
   "id": "5e9db051",
   "metadata": {},
   "outputs": [
    {
     "name": "stdout",
     "output_type": "stream",
     "text": [
      "10\n",
      "20\n",
      "30\n",
      "40\n",
      "50\n"
     ]
    }
   ],
   "source": [
    "# split()-->Split the source string by the occurrences of the pattern,returning a list containing the resulting substrings\n",
    "#re.split(pattern,string)\n",
    "l=re.split('-','10-20-30-40-50')\n",
    "for x in l:\n",
    "    print(x)"
   ]
  },
  {
   "cell_type": "code",
   "execution_count": 145,
   "id": "a5c79769",
   "metadata": {},
   "outputs": [
    {
     "name": "stdout",
     "output_type": "stream",
     "text": [
      "www\n",
      "pratyushk\n",
      "com\n"
     ]
    }
   ],
   "source": [
    "# split()-->Split the source string by the occurrences of the pattern,returning a list containing the resulting substrings\n",
    "#re.split(pattern,string)\n",
    "l=re.split('\\.','www.pratyushk.com')\n",
    "for x in l:\n",
    "    print(x)"
   ]
  },
  {
   "cell_type": "code",
   "execution_count": 146,
   "id": "256ce1eb",
   "metadata": {},
   "outputs": [
    {
     "name": "stdout",
     "output_type": "stream",
     "text": [
      "www\n",
      "pratyushk\n",
      "com\n"
     ]
    }
   ],
   "source": [
    "# OR\n",
    "# split()-->Split the source string by the occurrences of the pattern,returning a list containing the resulting substrings\n",
    "#re.split(pattern,string)\n",
    "l=re.split('[.]','www.pratyushk.com')\n",
    "for x in l:\n",
    "    print(x)"
   ]
  },
  {
   "cell_type": "code",
   "execution_count": 147,
   "id": "96db6bb3",
   "metadata": {},
   "outputs": [
    {
     "name": "stdout",
     "output_type": "stream",
     "text": [
      "Target string starts with learn\n"
     ]
    }
   ],
   "source": [
    "# ^symbol\n",
    "s='Learning Python is very easy'\n",
    "res=re.search('^Learn',s)\n",
    "if res!=None:\n",
    "    print('Target string starts with learn')\n",
    "else:\n",
    "    print('Target string not starts with learn')\n"
   ]
  },
  {
   "cell_type": "code",
   "execution_count": 148,
   "id": "8bfb458e",
   "metadata": {},
   "outputs": [
    {
     "name": "stdout",
     "output_type": "stream",
     "text": [
      "l\n",
      "Target string not starts with learn\n"
     ]
    }
   ],
   "source": [
    "# ^symbol- starts with\n",
    "s=input()\n",
    "res=re.search('^Learn',s)\n",
    "if res!=None:\n",
    "    print('Target string starts with learn')\n",
    "else:\n",
    "    print('Target string not starts with learn')"
   ]
  },
  {
   "cell_type": "code",
   "execution_count": 149,
   "id": "fa38f2de",
   "metadata": {},
   "outputs": [
    {
     "name": "stdout",
     "output_type": "stream",
     "text": [
      "Target string ends with Easy\n"
     ]
    }
   ],
   "source": [
    "# $symbol\n",
    "s='Learning Python is very Easy'\n",
    "res=re.search('Easy$',s)\n",
    "if res!=None:\n",
    "    print('Target string ends with Easy')\n",
    "else:\n",
    "    print('Target string not ends with Easy')"
   ]
  },
  {
   "cell_type": "code",
   "execution_count": 150,
   "id": "d599a8c1",
   "metadata": {},
   "outputs": [
    {
     "name": "stdout",
     "output_type": "stream",
     "text": [
      "Target string not ends with Easy\n"
     ]
    }
   ],
   "source": [
    "# $symbol\n",
    "s='Learning Python is very Easy!!!'\n",
    "res=re.search('Easy$',s)\n",
    "if res!=None:\n",
    "    print('Target string ends with Easy')\n",
    "else:\n",
    "    print('Target string not ends with Easy')"
   ]
  },
  {
   "cell_type": "code",
   "execution_count": 151,
   "id": "aa397e6d",
   "metadata": {},
   "outputs": [
    {
     "name": "stdout",
     "output_type": "stream",
     "text": [
      "Target string ends with Easy\n"
     ]
    }
   ],
   "source": [
    "# Ignoring lower or upper case\n",
    "s='Learning Python is very easy'\n",
    "res=re.search('Easy$',s,re.IGNORECASE)\n",
    "if res!=None:\n",
    "    print('Target string ends with Easy')\n",
    "else:\n",
    "    print('Target string not ends with Easy')"
   ]
  },
  {
   "cell_type": "code",
   "execution_count": 152,
   "id": "97cf16a1",
   "metadata": {},
   "outputs": [
    {
     "name": "stdout",
     "output_type": "stream",
     "text": [
      "Enter identifier to validate:d6a7#\n",
      "d6a7# is valid identifier\n"
     ]
    }
   ],
   "source": [
    "# WAP with different below conditions\n",
    "'''\n",
    "1.The allowed charcters are: alphabets, digits\n",
    "2.first charcter should be a lower case alphabet\n",
    "   symbol from a to k\n",
    "3.Second character should be any digit divisible by 3\n",
    "4. The length of identifier should be atleast 2\n",
    "\n",
    "[a-k][0369][a-zA-Z0-9#]*\n",
    "Example - d6a7#\n",
    "'''\n",
    "s=input('Enter identifier to validate:')\n",
    "m=re.fullmatch('[a-k][0369][a-zA-Z0-9#]*',s)\n",
    "if m!=None:\n",
    "    print(s,'is valid identifier')\n",
    "else:\n",
    "    print(s,'is not valid identifier')\n"
   ]
  },
  {
   "cell_type": "code",
   "execution_count": 153,
   "id": "3c7ab3ee",
   "metadata": {},
   "outputs": [
    {
     "name": "stdout",
     "output_type": "stream",
     "text": [
      "Enter identifier to validate:d6a7#\n",
      "d6a7# is valid identifier\n"
     ]
    }
   ],
   "source": [
    "# WAP with different below conditions\n",
    "'''\n",
    "1.The allowed charcters are: alphabets, digits\n",
    "2.first charcter should be a lower case alphabet\n",
    "   symbol from a to k\n",
    "3.Second character should be any digit divisible by 3\n",
    "4. The length of identifier should be atleast 2\n",
    "\n",
    "[a-k][0369][a-zA-Z0-9#]*\n",
    "Example - d6a7#\n",
    "'''\n",
    "s=input('Enter identifier to validate:')\n",
    "m=re.fullmatch('[a-k][0369][a-zA-Z0-9#]*',s)\n",
    "if m!=None:\n",
    "    print(s,'is valid identifier')\n",
    "else:\n",
    "    print(s,'is not valid identifier')"
   ]
  },
  {
   "cell_type": "code",
   "execution_count": 154,
   "id": "1c8dca21",
   "metadata": {},
   "outputs": [
    {
     "name": "stdout",
     "output_type": "stream",
     "text": [
      "Enter identifier to validate:d6a7#\n",
      "d6a7# is valid identifier\n"
     ]
    }
   ],
   "source": [
    "# WAP with different below conditions\n",
    "'''\n",
    "1.The allowed charcters are: alphabets, digits\n",
    "2.first charcter should be a lower case alphabet\n",
    "   symbol from a to k\n",
    "3.Second character should be any digit divisible by 3\n",
    "4. The length of identifier should be atleast 2\n",
    "\n",
    "[a-k][0369][a-zA-Z0-9#]*\n",
    "Example - d6a7#\n",
    "'''\n",
    "s=input('Enter identifier to validate:')\n",
    "m=re.fullmatch('[a-k][0369][a-zA-Z0-9#]*',s)\n",
    "if m!=None:\n",
    "    print(s,'is valid identifier')\n",
    "else:\n",
    "    print(s,'is not valid identifier')"
   ]
  },
  {
   "cell_type": "code",
   "execution_count": 155,
   "id": "a09d25a8",
   "metadata": {},
   "outputs": [
    {
     "name": "stdout",
     "output_type": "stream",
     "text": [
      "Enter identifier to validate:d6a7#\n",
      "d6a7# is valid identifier\n"
     ]
    }
   ],
   "source": [
    "# WAP with different below conditions\n",
    "'''\n",
    "1.The allowed charcters are: alphabets, digits\n",
    "2.first charcter should be a lower case alphabet\n",
    "   symbol from a to k\n",
    "3.Second character should be any digit divisible by 3\n",
    "4. The length of identifier should be atleast 2\n",
    "\n",
    "[a-k][0369][a-zA-Z0-9#]*\n",
    "Example - d6a7#\n",
    "'''\n",
    "s=input('Enter identifier to validate:')\n",
    "m=re.fullmatch('[a-k][0369][a-zA-Z0-9#]*',s)\n",
    "if m!=None:\n",
    "    print(s,'is valid identifier')\n",
    "else:\n",
    "    print(s,'is not valid identifier')"
   ]
  },
  {
   "cell_type": "code",
   "execution_count": 156,
   "id": "0dde7d80",
   "metadata": {},
   "outputs": [
    {
     "name": "stdout",
     "output_type": "stream",
     "text": [
      "Enter the mobile number to validate888999\n",
      "888999 is not valid mobile number\n"
     ]
    }
   ],
   "source": [
    "# WAP and check whether given number is valid or not with below condition\n",
    "'''\n",
    "1st condition - 6 to 9 -[6789]\n",
    "2nd- [0-9]{9}- remaining 9 digits 0-9\n",
    "so condition becomes [6-9]\\d{9}\n",
    "'''\n",
    "s=input('Enter the mobile number to validate')\n",
    "m=re.fullmatch('[6-9]\\d{9}',s)\n",
    "if m!=None:\n",
    "    print(s,'is valid mobile number')\n",
    "else:\n",
    "    print(s,'is not valid mobile number')\n"
   ]
  },
  {
   "cell_type": "code",
   "execution_count": 157,
   "id": "740b705a",
   "metadata": {},
   "outputs": [
    {
     "name": "stdout",
     "output_type": "stream",
     "text": [
      "Enter the mobile number to validate9999955555\n",
      "9999955555 is valid mobile number\n"
     ]
    }
   ],
   "source": [
    "# WAP and check whether given number is valid or not with below condition\n",
    "'''\n",
    "1st condition - 6 to 9 -[6789]\n",
    "2nd- [0-9]{9}- remaining 9 digits 0-9\n",
    "so condition becomes [6-9]\\d{9}\n",
    "'''\n",
    "# '[6-9][0-9]*' if we use this expression then we get wrong result\n",
    "s=input('Enter the mobile number to validate')\n",
    "m=re.fullmatch('[6-9][0-9]*',s)\n",
    "if m!=None:\n",
    "    print(s,'is valid mobile number')\n",
    "else:\n",
    "    print(s,'is not valid mobile number')\n"
   ]
  },
  {
   "cell_type": "code",
   "execution_count": 158,
   "id": "ac54a6da",
   "metadata": {},
   "outputs": [
    {
     "data": {
      "text/plain": [
       "'\\n1st condition --if it is 10 digit number, then number are betwen [6-9]\\n2nd -- if it is 11 digit number,then 1st digit should be zero\\n3rd -- if it is 12 digit number,then 1st 2 digits should be 91\\n4th -- if it is 13 digit number,then 1st 3 digits should be +91\\n\\nso the condition would be \\n\\n'"
      ]
     },
     "execution_count": 158,
     "metadata": {},
     "output_type": "execute_result"
    }
   ],
   "source": [
    "# WAP and check whether given number is valid or not with below condition\n",
    "\n",
    "'''\n",
    "1st condition --if it is 10 digit number, then number are betwen [6-9]\n",
    "2nd -- if it is 11 digit number,then 1st digit should be zero\n",
    "3rd -- if it is 12 digit number,then 1st 2 digits should be 91\n",
    "4th -- if it is 13 digit number,then 1st 3 digits should be +91\n",
    "\n",
    "so the condition would be \n",
    "\n",
    "'''\n"
   ]
  },
  {
   "cell_type": "code",
   "execution_count": 159,
   "id": "6ec075da",
   "metadata": {},
   "outputs": [
    {
     "name": "stdout",
     "output_type": "stream",
     "text": [
      "Extracted all mobile numbers into output.txt\n"
     ]
    }
   ],
   "source": [
    "# Read all mobile number from the file and extract all mobile number\n",
    "f1=open(r'C:\\Users\\praty\\Downloads\\test.txt','r')\n",
    "f2=open('output.txt','w')\n",
    "for line in f1:\n",
    "    list=re.findall('[6-9]\\d{9}',line)\n",
    "    for number in list:\n",
    "        f2.write(number+'\\n')\n",
    "print('Extracted all mobile numbers into output.txt')"
   ]
  },
  {
   "cell_type": "code",
   "execution_count": 160,
   "id": "0b6cd50a",
   "metadata": {},
   "outputs": [],
   "source": [
    "f1.close()\n",
    "f2.close()"
   ]
  },
  {
   "cell_type": "code",
   "execution_count": 161,
   "id": "3c85041d",
   "metadata": {},
   "outputs": [],
   "source": [
    "# Webscraping by using Regular Expression"
   ]
  },
  {
   "cell_type": "code",
   "execution_count": 162,
   "id": "2b408076",
   "metadata": {},
   "outputs": [],
   "source": [
    "import re,urllib\n",
    "import urllib.request"
   ]
  },
  {
   "cell_type": "code",
   "execution_count": 163,
   "id": "8884c65c",
   "metadata": {},
   "outputs": [
    {
     "name": "stdout",
     "output_type": "stream",
     "text": [
      "Searching... http://gmail.com\n",
      "<title>Gmail</title>\n"
     ]
    }
   ],
   "source": [
    "sites=['http://gmail.com']\n",
    "for s in sites:\n",
    "    print('Searching...',s)\n",
    "    u=urllib.request.urlopen(s)\n",
    "    text=u.read()\n",
    "    #print(type(text))\n",
    "    title=re.findall('<title>.*</title>',str(text),re.IGNORECASE)\n",
    "    print(title[0])"
   ]
  },
  {
   "cell_type": "code",
   "execution_count": 164,
   "id": "14db6e25",
   "metadata": {},
   "outputs": [
    {
     "data": {
      "text/plain": [
       "'\\nexamples numbers are\\n91994560000\\n91994560000\\n91994560000\\n'"
      ]
     },
     "execution_count": 164,
     "metadata": {},
     "output_type": "execute_result"
    }
   ],
   "source": [
    "# wap to read all mobiles numbers from redbus.in\n",
    "'''\n",
    "examples numbers are\n",
    "91994560000\n",
    "91994560000\n",
    "91994560000\n",
    "'''"
   ]
  },
  {
   "cell_type": "code",
   "execution_count": 165,
   "id": "d5af5e9f",
   "metadata": {},
   "outputs": [
    {
     "name": "stdout",
     "output_type": "stream",
     "text": [
      "2001 -\n"
     ]
    }
   ],
   "source": [
    "# this is for previous pattern numbers like (080-45678890,070-34589012,0422-4212152,033 39412345,1860-300-10101)\n",
    "import re,urllib\n",
    "import urllib.request\n",
    "u=urllib.request.urlopen('https://www.redbus.in/info/contactus')\n",
    "text=u.read()\n",
    "numbers=re.findall('[0-9]{3,4}[- ][0-9-]+',str(text))\n",
    "for n in numbers:\n",
    "    print(n)"
   ]
  },
  {
   "cell_type": "code",
   "execution_count": 166,
   "id": "71b276a0",
   "metadata": {},
   "outputs": [
    {
     "name": "stdout",
     "output_type": "stream",
     "text": [
      "91994560000\n",
      "91994560000\n",
      "91994560000\n"
     ]
    }
   ],
   "source": [
    "import re,urllib\n",
    "import urllib.request\n",
    "u=urllib.request.urlopen('https://www.redbus.in/info/contactus')\n",
    "text=u.read()\n",
    "numbers=re.findall('[0-9]{11}',str(text))\n",
    "for n in numbers:\n",
    "    print(n)"
   ]
  },
  {
   "cell_type": "code",
   "execution_count": 167,
   "id": "18dfe9b4",
   "metadata": {},
   "outputs": [],
   "source": [
    "# Wap whether the given mail id is valid mailid id or not\n",
    "#example abc@gmail.com/123@gmail.net/abc.toc@rediff.com/abc_133@tvf.net"
   ]
  },
  {
   "cell_type": "code",
   "execution_count": 168,
   "id": "e8ad6646",
   "metadata": {},
   "outputs": [
    {
     "name": "stdout",
     "output_type": "stream",
     "text": [
      "Enter mail id:abc@gmail.com\n",
      "Valid mail id\n"
     ]
    }
   ],
   "source": [
    "'''\n",
    "desc follows\n",
    "1st char--> \\w -alphanumeric charcter\n",
    "rest -->[a-zA-Z0-9_.]*@[a-z0-9]+[.][a-z]+ - any number of times\n",
    "'''\n",
    "import re\n",
    "s=input('Enter mail id:')\n",
    "m=re.fullmatch('\\w[a-zA-Z0-9_.]*@[a-z0-9]+[.][a-z]+',s)\n",
    "if m!=None:\n",
    "    print('Valid mail id')\n",
    "else:\n",
    "    print('Invalid mail id')"
   ]
  },
  {
   "cell_type": "code",
   "execution_count": 169,
   "id": "05846d4e",
   "metadata": {},
   "outputs": [
    {
     "name": "stdout",
     "output_type": "stream",
     "text": [
      "Enter mail id:abc_123@gmail\n",
      "Invalid mail id\n"
     ]
    }
   ],
   "source": [
    "# Only gmail or rediff\n",
    "import re\n",
    "s=input('Enter mail id:')\n",
    "m=re.fullmatch('\\w[a-zA-Z0-9_.]*@(gmail|rediffmail)[.][a-z]+',s)\n",
    "if m!=None:\n",
    "    print('Valid mail id')\n",
    "else:\n",
    "    print('Invalid mail id')"
   ]
  },
  {
   "cell_type": "code",
   "execution_count": 170,
   "id": "9369be0d",
   "metadata": {},
   "outputs": [],
   "source": [
    "#Car Registration Number is valid KA-State \n",
    "#examples - KA07EA7777"
   ]
  },
  {
   "cell_type": "code",
   "execution_count": 171,
   "id": "37ac94a6",
   "metadata": {},
   "outputs": [
    {
     "name": "stdout",
     "output_type": "stream",
     "text": [
      "Enter Car Regd number:KA07EA7777\n",
      "Valid Car Regd number\n"
     ]
    }
   ],
   "source": [
    "import re\n",
    "s=input('Enter Car Regd number:')\n",
    "m=re.fullmatch('KA[012][0-9][A-Z]{2}\\d{4}',s)\n",
    "if m!=None:\n",
    "    print('Valid Car Regd number')\n",
    "else:\n",
    "    print('Invalid Car Regd number')"
   ]
  },
  {
   "cell_type": "code",
   "execution_count": 172,
   "id": "f71761d2",
   "metadata": {},
   "outputs": [
    {
     "name": "stdout",
     "output_type": "stream",
     "text": [
      "Enter Car Regd number:KA123EA7777\n",
      "Invalid Car Regd number\n"
     ]
    }
   ],
   "source": [
    "import re\n",
    "s=input('Enter Car Regd number:')\n",
    "m=re.fullmatch('KA[012][0-9][A-Z]{2}\\d{4}',s)\n",
    "if m!=None:\n",
    "    print('Valid Car Regd number')\n",
    "else:\n",
    "    print('Invalid Car Regd number')"
   ]
  },
  {
   "cell_type": "code",
   "execution_count": null,
   "id": "70906b1c",
   "metadata": {},
   "outputs": [],
   "source": []
  }
 ],
 "metadata": {
  "kernelspec": {
   "display_name": "Python 3",
   "language": "python",
   "name": "python3"
  },
  "language_info": {
   "codemirror_mode": {
    "name": "ipython",
    "version": 3
   },
   "file_extension": ".py",
   "mimetype": "text/x-python",
   "name": "python",
   "nbconvert_exporter": "python",
   "pygments_lexer": "ipython3",
   "version": "3.8.8"
  }
 },
 "nbformat": 4,
 "nbformat_minor": 5
}
